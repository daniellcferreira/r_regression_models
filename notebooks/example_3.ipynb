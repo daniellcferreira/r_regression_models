{
  "nbformat": 4,
  "nbformat_minor": 0,
  "metadata": {
    "colab": {
      "provenance": []
    },
    "kernelspec": {
      "name": "ir",
      "display_name": "R"
    },
    "language_info": {
      "name": "R"
    }
  },
  "cells": [
    {
      "cell_type": "code",
      "execution_count": 1,
      "metadata": {
        "colab": {
          "base_uri": "https://localhost:8080/"
        },
        "id": "KxdcW_Q_FMNZ",
        "outputId": "6aa51965-e5d8-4113-cad9-f66874b913f4"
      },
      "outputs": [
        {
          "output_type": "stream",
          "name": "stderr",
          "text": [
            "Installing package into ‘/usr/local/lib/R/site-library’\n",
            "(as ‘lib’ is unspecified)\n",
            "\n",
            "also installing the dependencies ‘plyr’, ‘reshape2’, ‘libcoin’, ‘mvtnorm’, ‘Formula’, ‘inum’, ‘listenv’, ‘parallelly’, ‘warp’, ‘globals’, ‘sparsevctrs’, ‘lobstr’, ‘Cubist’, ‘partykit’, ‘DiceDesign’, ‘sfd’, ‘future’, ‘slider’, ‘parsnip’, ‘butcher’, ‘C50’, ‘dials’, ‘furrr’, ‘hardhat’, ‘rsample’\n",
            "\n",
            "\n"
          ]
        }
      ],
      "source": [
        "# Técnicas de Ensemble\n",
        "\n",
        "# Bagging e Random Forest utilizando o framework tidymodels (parsnip, baguette).\n",
        "# Instalando e carregando pacotes necessários\n",
        "install.packages('baguette')"
      ]
    },
    {
      "cell_type": "code",
      "source": [
        "install.packages('ranger')"
      ],
      "metadata": {
        "colab": {
          "base_uri": "https://localhost:8080/"
        },
        "id": "EjQU5l0NHa4U",
        "outputId": "620aef1c-0809-47f2-df62-b963cd7a6228"
      },
      "execution_count": 2,
      "outputs": [
        {
          "output_type": "stream",
          "name": "stderr",
          "text": [
            "Installing package into ‘/usr/local/lib/R/site-library’\n",
            "(as ‘lib’ is unspecified)\n",
            "\n",
            "also installing the dependency ‘RcppEigen’\n",
            "\n",
            "\n"
          ]
        }
      ]
    },
    {
      "cell_type": "code",
      "source": [
        "library(baguette)\n",
        "library(ranger)"
      ],
      "metadata": {
        "colab": {
          "base_uri": "https://localhost:8080/"
        },
        "id": "ryYjXcidIEDa",
        "outputId": "7088bcc4-358d-4190-b2c2-5d244807ce07"
      },
      "execution_count": 3,
      "outputs": [
        {
          "output_type": "stream",
          "name": "stderr",
          "text": [
            "Loading required package: parsnip\n",
            "\n"
          ]
        }
      ]
    },
    {
      "cell_type": "code",
      "source": [
        "dados <- read.csv('automoveis_usados.csv')"
      ],
      "metadata": {
        "id": "cMPW7CPsIdOc"
      },
      "execution_count": 5,
      "outputs": []
    },
    {
      "cell_type": "code",
      "source": [
        "head(dados)"
      ],
      "metadata": {
        "colab": {
          "base_uri": "https://localhost:8080/",
          "height": 286
        },
        "id": "CyVRsjblIuMM",
        "outputId": "f33814fa-c848-4c5f-ed74-7323fd63959d"
      },
      "execution_count": 6,
      "outputs": [
        {
          "output_type": "display_data",
          "data": {
            "text/html": [
              "<table class=\"dataframe\">\n",
              "<caption>A data.frame: 6 × 6</caption>\n",
              "<thead>\n",
              "\t<tr><th></th><th scope=col>Estilo</th><th scope=col>Ano</th><th scope=col>Potencia_motor</th><th scope=col>Cilindros_motor</th><th scope=col>Consumo_estrada_km</th><th scope=col>Valor</th></tr>\n",
              "\t<tr><th></th><th scope=col>&lt;chr&gt;</th><th scope=col>&lt;int&gt;</th><th scope=col>&lt;dbl&gt;</th><th scope=col>&lt;dbl&gt;</th><th scope=col>&lt;dbl&gt;</th><th scope=col>&lt;int&gt;</th></tr>\n",
              "</thead>\n",
              "<tbody>\n",
              "\t<tr><th scope=row>1</th><td>SUV 4 portas           </td><td>2005</td><td>275</td><td>6</td><td>28.96812</td><td>29695</td></tr>\n",
              "\t<tr><th scope=row>2</th><td>seda                   </td><td>2016</td><td>170</td><td>4</td><td>61.15492</td><td>30495</td></tr>\n",
              "\t<tr><th scope=row>3</th><td>minivan de passageiros </td><td>2016</td><td>248</td><td>6</td><td>45.06152</td><td>37650</td></tr>\n",
              "\t<tr><th scope=row>4</th><td>seda                   </td><td>2015</td><td>138</td><td>4</td><td>57.93624</td><td>16170</td></tr>\n",
              "\t<tr><th scope=row>5</th><td>seda                   </td><td>1991</td><td>162</td><td>4</td><td>32.18680</td><td> 2000</td></tr>\n",
              "\t<tr><th scope=row>6</th><td>picape cabine estendida</td><td>2012</td><td>152</td><td>4</td><td>37.01482</td><td>19299</td></tr>\n",
              "</tbody>\n",
              "</table>\n"
            ],
            "text/markdown": "\nA data.frame: 6 × 6\n\n| <!--/--> | Estilo &lt;chr&gt; | Ano &lt;int&gt; | Potencia_motor &lt;dbl&gt; | Cilindros_motor &lt;dbl&gt; | Consumo_estrada_km &lt;dbl&gt; | Valor &lt;int&gt; |\n|---|---|---|---|---|---|---|\n| 1 | SUV 4 portas            | 2005 | 275 | 6 | 28.96812 | 29695 |\n| 2 | seda                    | 2016 | 170 | 4 | 61.15492 | 30495 |\n| 3 | minivan de passageiros  | 2016 | 248 | 6 | 45.06152 | 37650 |\n| 4 | seda                    | 2015 | 138 | 4 | 57.93624 | 16170 |\n| 5 | seda                    | 1991 | 162 | 4 | 32.18680 |  2000 |\n| 6 | picape cabine estendida | 2012 | 152 | 4 | 37.01482 | 19299 |\n\n",
            "text/latex": "A data.frame: 6 × 6\n\\begin{tabular}{r|llllll}\n  & Estilo & Ano & Potencia\\_motor & Cilindros\\_motor & Consumo\\_estrada\\_km & Valor\\\\\n  & <chr> & <int> & <dbl> & <dbl> & <dbl> & <int>\\\\\n\\hline\n\t1 & SUV 4 portas            & 2005 & 275 & 6 & 28.96812 & 29695\\\\\n\t2 & seda                    & 2016 & 170 & 4 & 61.15492 & 30495\\\\\n\t3 & minivan de passageiros  & 2016 & 248 & 6 & 45.06152 & 37650\\\\\n\t4 & seda                    & 2015 & 138 & 4 & 57.93624 & 16170\\\\\n\t5 & seda                    & 1991 & 162 & 4 & 32.18680 &  2000\\\\\n\t6 & picape cabine estendida & 2012 & 152 & 4 & 37.01482 & 19299\\\\\n\\end{tabular}\n",
            "text/plain": [
              "  Estilo                  Ano  Potencia_motor Cilindros_motor\n",
              "1 SUV 4 portas            2005 275            6              \n",
              "2 seda                    2016 170            4              \n",
              "3 minivan de passageiros  2016 248            6              \n",
              "4 seda                    2015 138            4              \n",
              "5 seda                    1991 162            4              \n",
              "6 picape cabine estendida 2012 152            4              \n",
              "  Consumo_estrada_km Valor\n",
              "1 28.96812           29695\n",
              "2 61.15492           30495\n",
              "3 45.06152           37650\n",
              "4 57.93624           16170\n",
              "5 32.18680            2000\n",
              "6 37.01482           19299"
            ]
          },
          "metadata": {}
        }
      ]
    },
    {
      "cell_type": "code",
      "source": [
        "install.packages('tidymodels')"
      ],
      "metadata": {
        "colab": {
          "base_uri": "https://localhost:8080/"
        },
        "id": "j5qb6YoFJs_u",
        "outputId": "44224442-0ebf-4ab3-dccd-d542538d67fb"
      },
      "execution_count": 7,
      "outputs": [
        {
          "output_type": "stream",
          "name": "stderr",
          "text": [
            "Installing package into ‘/usr/local/lib/R/site-library’\n",
            "(as ‘lib’ is unspecified)\n",
            "\n",
            "also installing the dependencies ‘shape’, ‘future.apply’, ‘numDeriv’, ‘progressr’, ‘SQUAREM’, ‘diagram’, ‘lava’, ‘prodlim’, ‘lhs’, ‘patchwork’, ‘clock’, ‘gower’, ‘ipred’, ‘timeDate’, ‘GPfit’, ‘modelenv’, ‘infer’, ‘modeldata’, ‘recipes’, ‘tailor’, ‘tune’, ‘workflows’, ‘workflowsets’, ‘yardstick’\n",
            "\n",
            "\n"
          ]
        }
      ]
    },
    {
      "cell_type": "code",
      "source": [
        "library(tidymodels)"
      ],
      "metadata": {
        "colab": {
          "base_uri": "https://localhost:8080/"
        },
        "id": "hV0kVFriJrbX",
        "outputId": "f3c10d7d-007b-4900-b9cf-53c777f58f12"
      },
      "execution_count": 8,
      "outputs": [
        {
          "output_type": "stream",
          "name": "stderr",
          "text": [
            "── \u001b[1mAttaching packages\u001b[22m ────────────────────────────────────── tidymodels 1.4.1 ──\n",
            "\n",
            "\u001b[32m✔\u001b[39m \u001b[34mbroom       \u001b[39m 1.0.10     \u001b[32m✔\u001b[39m \u001b[34mrsample     \u001b[39m 1.3.1 \n",
            "\u001b[32m✔\u001b[39m \u001b[34mdials       \u001b[39m 1.4.2      \u001b[32m✔\u001b[39m \u001b[34mtailor      \u001b[39m 0.1.0 \n",
            "\u001b[32m✔\u001b[39m \u001b[34mdplyr       \u001b[39m 1.1.4      \u001b[32m✔\u001b[39m \u001b[34mtidyr       \u001b[39m 1.3.1 \n",
            "\u001b[32m✔\u001b[39m \u001b[34mggplot2     \u001b[39m 4.0.0      \u001b[32m✔\u001b[39m \u001b[34mtune        \u001b[39m 2.0.0 \n",
            "\u001b[32m✔\u001b[39m \u001b[34minfer       \u001b[39m 1.0.9      \u001b[32m✔\u001b[39m \u001b[34mworkflows   \u001b[39m 1.3.0 \n",
            "\u001b[32m✔\u001b[39m \u001b[34mmodeldata   \u001b[39m 1.5.1      \u001b[32m✔\u001b[39m \u001b[34mworkflowsets\u001b[39m 1.1.1 \n",
            "\u001b[32m✔\u001b[39m \u001b[34mpurrr       \u001b[39m 1.1.0      \u001b[32m✔\u001b[39m \u001b[34myardstick   \u001b[39m 1.3.2 \n",
            "\u001b[32m✔\u001b[39m \u001b[34mrecipes     \u001b[39m 1.3.1      \n",
            "\n",
            "── \u001b[1mConflicts\u001b[22m ───────────────────────────────────────── tidymodels_conflicts() ──\n",
            "\u001b[31m✖\u001b[39m \u001b[34mpurrr\u001b[39m::\u001b[32mdiscard()\u001b[39m masks \u001b[34mscales\u001b[39m::discard()\n",
            "\u001b[31m✖\u001b[39m \u001b[34mdplyr\u001b[39m::\u001b[32mfilter()\u001b[39m  masks \u001b[34mstats\u001b[39m::filter()\n",
            "\u001b[31m✖\u001b[39m \u001b[34mdplyr\u001b[39m::\u001b[32mlag()\u001b[39m     masks \u001b[34mstats\u001b[39m::lag()\n",
            "\u001b[31m✖\u001b[39m \u001b[34mrecipes\u001b[39m::\u001b[32mstep()\u001b[39m  masks \u001b[34mstats\u001b[39m::step()\n",
            "\n"
          ]
        }
      ]
    },
    {
      "cell_type": "code",
      "source": [
        "set.seed(6578)\n",
        "\n",
        "df_split <- initial_split(dados, prop = 0.8)\n",
        "df_split"
      ],
      "metadata": {
        "colab": {
          "base_uri": "https://localhost:8080/",
          "height": 53
        },
        "id": "QnRXKIFOLoyW",
        "outputId": "d670f1c2-732f-4764-85c0-d21254e67ddd"
      },
      "execution_count": 9,
      "outputs": [
        {
          "output_type": "display_data",
          "data": {
            "text/plain": [
              "<Training/Testing/Total>\n",
              "<8655/2164/10819>"
            ]
          },
          "metadata": {}
        }
      ]
    },
    {
      "cell_type": "code",
      "source": [
        "df_treino <- training(df_split)\n",
        "df_teste <- testing(df_split)"
      ],
      "metadata": {
        "id": "Jpj1BMIPLyj5"
      },
      "execution_count": 10,
      "outputs": []
    },
    {
      "cell_type": "code",
      "source": [
        "# BAGGING\n",
        "\n",
        "# - bag_tree(): cria um modelo de árvore de decisão com ensemble\n",
        "# - set_mode('regression'): indica que estamos tratando um problema de regressão\n",
        "# - set_engine('rpart', times = 100): usa o motor 'rpart' com 100 árvores no ensemble\n",
        "bagging <- bag_tree() %>%\n",
        "  set_mode('regression') %>%\n",
        "  set_engine('rpart', times = 100)"
      ],
      "metadata": {
        "id": "MrBKXQy6IKUM"
      },
      "execution_count": 11,
      "outputs": []
    },
    {
      "cell_type": "code",
      "source": [
        "# Ajustando o modelo Bagging nos dados de treino\n",
        "set.seed(4556)\n",
        "\n",
        "modelo_bagging <- bagging %>%\n",
        "  fit(Valor ~ Estilo + Ano + Potencia_motor, data = df_treino)"
      ],
      "metadata": {
        "colab": {
          "base_uri": "https://localhost:8080/"
        },
        "id": "_EsblWqjIZ9s",
        "outputId": "defa2e87-caab-4f2f-9597-2ed0c887690b"
      },
      "execution_count": 12,
      "outputs": [
        {
          "output_type": "stream",
          "name": "stderr",
          "text": [
            "Registered S3 method overwritten by 'butcher':\n",
            "  method                 from    \n",
            "  as.character.dev_topic generics\n",
            "\n"
          ]
        }
      ]
    },
    {
      "cell_type": "code",
      "source": [
        "# Visualizando informações do modelo ajustado\n",
        "modelo_bagging"
      ],
      "metadata": {
        "colab": {
          "base_uri": "https://localhost:8080/",
          "height": 235
        },
        "id": "eA_Bze5xMI0Q",
        "outputId": "52961d59-3609-43e5-8243-70a58865b554"
      },
      "execution_count": 13,
      "outputs": [
        {
          "output_type": "display_data",
          "data": {
            "text/plain": [
              "parsnip model object\n",
              "\n",
              "Bagged CART (regression with 100 members)\n",
              "\n",
              "Variable importance scores include:\n",
              "\n",
              "\u001b[90m# A tibble: 3 × 4\u001b[39m\n",
              "  term             value   std.error  used\n",
              "  \u001b[3m\u001b[90m<chr>\u001b[39m\u001b[23m            \u001b[3m\u001b[90m<dbl>\u001b[39m\u001b[23m       \u001b[3m\u001b[90m<dbl>\u001b[39m\u001b[23m \u001b[3m\u001b[90m<int>\u001b[39m\u001b[23m\n",
              "\u001b[90m1\u001b[39m Ano            1.24\u001b[90me\u001b[39m12 \u001b[4m2\u001b[24m188\u001b[4m8\u001b[24m\u001b[4m8\u001b[24m\u001b[4m6\u001b[24m368.   100\n",
              "\u001b[90m2\u001b[39m Potencia_motor 9.77\u001b[90me\u001b[39m11 \u001b[4m2\u001b[24m166\u001b[4m0\u001b[24m\u001b[4m6\u001b[24m\u001b[4m5\u001b[24m457.   100\n",
              "\u001b[90m3\u001b[39m Estilo         3.19\u001b[90me\u001b[39m11 \u001b[4m1\u001b[24m250\u001b[4m6\u001b[24m\u001b[4m5\u001b[24m\u001b[4m6\u001b[24m068.   100\n"
            ]
          },
          "metadata": {}
        }
      ]
    },
    {
      "cell_type": "code",
      "source": [
        "# Fazendo previsões no conjunto de teste\n",
        "predicoes <- predict(modelo_bagging, new_data = df_teste)"
      ],
      "metadata": {
        "id": "-gA3vRVkMMUs"
      },
      "execution_count": 14,
      "outputs": []
    },
    {
      "cell_type": "code",
      "source": [
        "# Unindo as previsões com os dados de teste para facilitar análise\n",
        "predicoes_badding <- bind_cols(df_teste, predicoes)"
      ],
      "metadata": {
        "id": "I29fbOp8MUiL"
      },
      "execution_count": 15,
      "outputs": []
    },
    {
      "cell_type": "code",
      "source": [
        "predicoes_badding"
      ],
      "metadata": {
        "colab": {
          "base_uri": "https://localhost:8080/",
          "height": 1000
        },
        "id": "zG1pElq4Mbs7",
        "outputId": "85747387-db43-44d4-bf4a-1bceb7ff0bd0"
      },
      "execution_count": 16,
      "outputs": [
        {
          "output_type": "display_data",
          "data": {
            "text/html": [
              "<table class=\"dataframe\">\n",
              "<caption>A data.frame: 2164 × 7</caption>\n",
              "<thead>\n",
              "\t<tr><th scope=col>Estilo</th><th scope=col>Ano</th><th scope=col>Potencia_motor</th><th scope=col>Cilindros_motor</th><th scope=col>Consumo_estrada_km</th><th scope=col>Valor</th><th scope=col>.pred</th></tr>\n",
              "\t<tr><th scope=col>&lt;chr&gt;</th><th scope=col>&lt;int&gt;</th><th scope=col>&lt;dbl&gt;</th><th scope=col>&lt;dbl&gt;</th><th scope=col>&lt;dbl&gt;</th><th scope=col>&lt;int&gt;</th><th scope=col>&lt;dbl&gt;</th></tr>\n",
              "</thead>\n",
              "<tbody>\n",
              "\t<tr><td>hatchback 2 portas     </td><td>2015</td><td>106</td><td>4</td><td>59.54558</td><td>14845</td><td>16056.09</td></tr>\n",
              "\t<tr><td>seda                   </td><td>2008</td><td>264</td><td>6</td><td>38.62416</td><td>25495</td><td>28489.01</td></tr>\n",
              "\t<tr><td>hatchback 2 portas     </td><td>2005</td><td>210</td><td>4</td><td>45.06152</td><td>23670</td><td>25001.69</td></tr>\n",
              "\t<tr><td>perua                  </td><td>1991</td><td>162</td><td>4</td><td>32.18680</td><td> 2000</td><td> 2000.00</td></tr>\n",
              "\t<tr><td>SUV 4 portas           </td><td>2017</td><td>168</td><td>4</td><td>46.67086</td><td>23600</td><td>24951.54</td></tr>\n",
              "\t<tr><td>SUV 4 portas           </td><td>2017</td><td>284</td><td>6</td><td>43.45218</td><td>36100</td><td>36703.74</td></tr>\n",
              "\t<tr><td>SUV 2 portas           </td><td>2001</td><td>203</td><td>6</td><td>32.18680</td><td>21035</td><td>23570.72</td></tr>\n",
              "\t<tr><td>hatchback 4 portas     </td><td>2016</td><td>138</td><td>4</td><td>59.54558</td><td>17905</td><td>18102.96</td></tr>\n",
              "\t<tr><td>hatchback 2 portas     </td><td>2013</td><td>200</td><td>4</td><td>53.10822</td><td>31495</td><td>27757.42</td></tr>\n",
              "\t<tr><td>hatchback 4 portas     </td><td>2017</td><td>164</td><td>4</td><td>54.71756</td><td>21990</td><td>19249.21</td></tr>\n",
              "\t<tr><td>minivan de passageiros </td><td>2005</td><td>200</td><td>6</td><td>37.01482</td><td>28110</td><td>28700.62</td></tr>\n",
              "\t<tr><td>seda                   </td><td>2016</td><td>184</td><td>4</td><td>57.93624</td><td>21995</td><td>23941.57</td></tr>\n",
              "\t<tr><td>SUV 4 portas           </td><td>2017</td><td>240</td><td>4</td><td>48.28020</td><td>40950</td><td>42286.87</td></tr>\n",
              "\t<tr><td>hatchback 4 portas     </td><td>2016</td><td>188</td><td>4</td><td>49.88954</td><td>26940</td><td>23867.18</td></tr>\n",
              "\t<tr><td>seda                   </td><td>2016</td><td>304</td><td>6</td><td>45.06152</td><td>31065</td><td>46479.19</td></tr>\n",
              "\t<tr><td>seda                   </td><td>2016</td><td>178</td><td>4</td><td>56.32690</td><td>23070</td><td>24821.65</td></tr>\n",
              "\t<tr><td>seda                   </td><td>2016</td><td>195</td><td>4</td><td>49.88954</td><td>27095</td><td>48533.29</td></tr>\n",
              "\t<tr><td>picape cabine estendida</td><td>2017</td><td>385</td><td>8</td><td>33.79614</td><td>35870</td><td>42478.82</td></tr>\n",
              "\t<tr><td>picape cabine simples  </td><td>2003</td><td>135</td><td>4</td><td>41.84284</td><td>13930</td><td>15034.50</td></tr>\n",
              "\t<tr><td>SUV 4 portas           </td><td>2016</td><td>176</td><td>4</td><td>49.88954</td><td>24350</td><td>29216.34</td></tr>\n",
              "\t<tr><td>seda                   </td><td>1995</td><td>225</td><td>6</td><td>41.84284</td><td> 2000</td><td> 2005.40</td></tr>\n",
              "\t<tr><td>seda                   </td><td>2015</td><td>272</td><td>4</td><td>45.06152</td><td>57670</td><td>48041.77</td></tr>\n",
              "\t<tr><td>cupe                   </td><td>2009</td><td>330</td><td>6</td><td>41.84284</td><td>35900</td><td>38349.42</td></tr>\n",
              "\t<tr><td>SUV 4 portas           </td><td>2013</td><td>265</td><td>6</td><td>37.01482</td><td>42650</td><td>39530.02</td></tr>\n",
              "\t<tr><td>seda                   </td><td>2017</td><td>200</td><td>4</td><td>49.88954</td><td>37820</td><td>36283.38</td></tr>\n",
              "\t<tr><td>SUV 4 portas           </td><td>2017</td><td>250</td><td>4</td><td>41.84284</td><td>45750</td><td>41134.22</td></tr>\n",
              "\t<tr><td>SUV 4 portas           </td><td>2011</td><td>166</td><td>4</td><td>40.23350</td><td>23449</td><td>22175.23</td></tr>\n",
              "\t<tr><td>hatchback 4 portas     </td><td>2012</td><td>158</td><td>4</td><td>41.84284</td><td>21715</td><td>20323.25</td></tr>\n",
              "\t<tr><td>SUV 2 portas           </td><td>2016</td><td>240</td><td>4</td><td>48.28020</td><td>46675</td><td>45644.61</td></tr>\n",
              "\t<tr><td>seda                   </td><td>2004</td><td>225</td><td>4</td><td>45.06152</td><td>20450</td><td>31710.86</td></tr>\n",
              "\t<tr><td>⋮</td><td>⋮</td><td>⋮</td><td>⋮</td><td>⋮</td><td>⋮</td><td>⋮</td></tr>\n",
              "\t<tr><td>SUV 4 portas          </td><td>2016</td><td>420</td><td>8</td><td>35.40548</td><td>68025</td><td>67980.641</td></tr>\n",
              "\t<tr><td>picape cabine simples </td><td>1999</td><td>220</td><td>8</td><td>27.35878</td><td> 2922</td><td> 3359.843</td></tr>\n",
              "\t<tr><td>picape cabine simples </td><td>2002</td><td>120</td><td>4</td><td>40.23350</td><td>13961</td><td>16073.404</td></tr>\n",
              "\t<tr><td>minivan de passageiros</td><td>2004</td><td>190</td><td>6</td><td>25.74944</td><td>26195</td><td>24332.963</td></tr>\n",
              "\t<tr><td>seda                  </td><td>2005</td><td>215</td><td>6</td><td>37.01482</td><td>31105</td><td>25387.077</td></tr>\n",
              "\t<tr><td>seda                  </td><td>2006</td><td>298</td><td>6</td><td>38.62416</td><td>31200</td><td>46041.983</td></tr>\n",
              "\t<tr><td>picape cabine dupla   </td><td>2008</td><td>310</td><td>8</td><td>27.35878</td><td>32155</td><td>32068.890</td></tr>\n",
              "\t<tr><td>picape cabine simples </td><td>2015</td><td>381</td><td>8</td><td>27.35878</td><td>32170</td><td>32271.761</td></tr>\n",
              "\t<tr><td>cupe                  </td><td>2015</td><td>375</td><td>8</td><td>37.01482</td><td>34995</td><td>35567.067</td></tr>\n",
              "\t<tr><td>seda                  </td><td>2012</td><td>280</td><td>6</td><td>46.67086</td><td>35705</td><td>39763.142</td></tr>\n",
              "\t<tr><td>cupe                  </td><td>2016</td><td>348</td><td>6</td><td>38.62416</td><td>33750</td><td>29795.713</td></tr>\n",
              "\t<tr><td>seda                  </td><td>2015</td><td>241</td><td>4</td><td>54.71756</td><td>38400</td><td>43858.565</td></tr>\n",
              "\t<tr><td>seda                  </td><td>2015</td><td>168</td><td>4</td><td>49.88954</td><td>20595</td><td>21434.219</td></tr>\n",
              "\t<tr><td>picape cabine dupla   </td><td>2007</td><td>295</td><td>8</td><td>30.57746</td><td>32690</td><td>32386.768</td></tr>\n",
              "\t<tr><td>seda                  </td><td>2015</td><td>220</td><td>4</td><td>53.10822</td><td>33200</td><td>40977.014</td></tr>\n",
              "\t<tr><td>perua                 </td><td>1995</td><td>162</td><td>4</td><td>38.62416</td><td> 2000</td><td> 2000.000</td></tr>\n",
              "\t<tr><td>hatchback 4 portas    </td><td>2013</td><td>200</td><td>4</td><td>49.88954</td><td>28795</td><td>28683.715</td></tr>\n",
              "\t<tr><td>hatchback 4 portas    </td><td>2017</td><td>173</td><td>4</td><td>51.49888</td><td>19800</td><td>19354.435</td></tr>\n",
              "\t<tr><td>SUV 4 portas          </td><td>2009</td><td>171</td><td>4</td><td>40.23350</td><td>24690</td><td>23948.631</td></tr>\n",
              "\t<tr><td>picape cabine dupla   </td><td>2012</td><td>320</td><td>8</td><td>33.79614</td><td>50305</td><td>41588.768</td></tr>\n",
              "\t<tr><td>seda                  </td><td>1995</td><td>168</td><td>5</td><td>41.84284</td><td> 2000</td><td> 2000.000</td></tr>\n",
              "\t<tr><td>SUV 4 portas          </td><td>2016</td><td>281</td><td>6</td><td>35.40548</td><td>34005</td><td>36861.281</td></tr>\n",
              "\t<tr><td>seda                  </td><td>2005</td><td>140</td><td>4</td><td>49.88954</td><td>20090</td><td>17047.768</td></tr>\n",
              "\t<tr><td>picape cabine simples </td><td>1997</td><td>200</td><td>6</td><td>28.96812</td><td> 2992</td><td> 2561.923</td></tr>\n",
              "\t<tr><td>minivan de passageiros</td><td>2007</td><td>240</td><td>6</td><td>37.01482</td><td>23280</td><td>28449.983</td></tr>\n",
              "\t<tr><td>seda                  </td><td>1990</td><td>165</td><td>6</td><td>40.23350</td><td> 2000</td><td> 2000.000</td></tr>\n",
              "\t<tr><td>seda                  </td><td>2003</td><td>300</td><td>8</td><td>40.23350</td><td>49150</td><td>50933.850</td></tr>\n",
              "\t<tr><td>hatchback 2 portas    </td><td>2015</td><td>210</td><td>4</td><td>49.88954</td><td>25450</td><td>29118.520</td></tr>\n",
              "\t<tr><td>cupe                  </td><td>1995</td><td>222</td><td>6</td><td>37.01482</td><td> 2575</td><td> 2750.163</td></tr>\n",
              "\t<tr><td>cupe                  </td><td>2017</td><td>208</td><td>4</td><td>48.28020</td><td>41300</td><td>41061.557</td></tr>\n",
              "</tbody>\n",
              "</table>\n"
            ],
            "text/markdown": "\nA data.frame: 2164 × 7\n\n| Estilo &lt;chr&gt; | Ano &lt;int&gt; | Potencia_motor &lt;dbl&gt; | Cilindros_motor &lt;dbl&gt; | Consumo_estrada_km &lt;dbl&gt; | Valor &lt;int&gt; | .pred &lt;dbl&gt; |\n|---|---|---|---|---|---|---|\n| hatchback 2 portas      | 2015 | 106 | 4 | 59.54558 | 14845 | 16056.09 |\n| seda                    | 2008 | 264 | 6 | 38.62416 | 25495 | 28489.01 |\n| hatchback 2 portas      | 2005 | 210 | 4 | 45.06152 | 23670 | 25001.69 |\n| perua                   | 1991 | 162 | 4 | 32.18680 |  2000 |  2000.00 |\n| SUV 4 portas            | 2017 | 168 | 4 | 46.67086 | 23600 | 24951.54 |\n| SUV 4 portas            | 2017 | 284 | 6 | 43.45218 | 36100 | 36703.74 |\n| SUV 2 portas            | 2001 | 203 | 6 | 32.18680 | 21035 | 23570.72 |\n| hatchback 4 portas      | 2016 | 138 | 4 | 59.54558 | 17905 | 18102.96 |\n| hatchback 2 portas      | 2013 | 200 | 4 | 53.10822 | 31495 | 27757.42 |\n| hatchback 4 portas      | 2017 | 164 | 4 | 54.71756 | 21990 | 19249.21 |\n| minivan de passageiros  | 2005 | 200 | 6 | 37.01482 | 28110 | 28700.62 |\n| seda                    | 2016 | 184 | 4 | 57.93624 | 21995 | 23941.57 |\n| SUV 4 portas            | 2017 | 240 | 4 | 48.28020 | 40950 | 42286.87 |\n| hatchback 4 portas      | 2016 | 188 | 4 | 49.88954 | 26940 | 23867.18 |\n| seda                    | 2016 | 304 | 6 | 45.06152 | 31065 | 46479.19 |\n| seda                    | 2016 | 178 | 4 | 56.32690 | 23070 | 24821.65 |\n| seda                    | 2016 | 195 | 4 | 49.88954 | 27095 | 48533.29 |\n| picape cabine estendida | 2017 | 385 | 8 | 33.79614 | 35870 | 42478.82 |\n| picape cabine simples   | 2003 | 135 | 4 | 41.84284 | 13930 | 15034.50 |\n| SUV 4 portas            | 2016 | 176 | 4 | 49.88954 | 24350 | 29216.34 |\n| seda                    | 1995 | 225 | 6 | 41.84284 |  2000 |  2005.40 |\n| seda                    | 2015 | 272 | 4 | 45.06152 | 57670 | 48041.77 |\n| cupe                    | 2009 | 330 | 6 | 41.84284 | 35900 | 38349.42 |\n| SUV 4 portas            | 2013 | 265 | 6 | 37.01482 | 42650 | 39530.02 |\n| seda                    | 2017 | 200 | 4 | 49.88954 | 37820 | 36283.38 |\n| SUV 4 portas            | 2017 | 250 | 4 | 41.84284 | 45750 | 41134.22 |\n| SUV 4 portas            | 2011 | 166 | 4 | 40.23350 | 23449 | 22175.23 |\n| hatchback 4 portas      | 2012 | 158 | 4 | 41.84284 | 21715 | 20323.25 |\n| SUV 2 portas            | 2016 | 240 | 4 | 48.28020 | 46675 | 45644.61 |\n| seda                    | 2004 | 225 | 4 | 45.06152 | 20450 | 31710.86 |\n| ⋮ | ⋮ | ⋮ | ⋮ | ⋮ | ⋮ | ⋮ |\n| SUV 4 portas           | 2016 | 420 | 8 | 35.40548 | 68025 | 67980.641 |\n| picape cabine simples  | 1999 | 220 | 8 | 27.35878 |  2922 |  3359.843 |\n| picape cabine simples  | 2002 | 120 | 4 | 40.23350 | 13961 | 16073.404 |\n| minivan de passageiros | 2004 | 190 | 6 | 25.74944 | 26195 | 24332.963 |\n| seda                   | 2005 | 215 | 6 | 37.01482 | 31105 | 25387.077 |\n| seda                   | 2006 | 298 | 6 | 38.62416 | 31200 | 46041.983 |\n| picape cabine dupla    | 2008 | 310 | 8 | 27.35878 | 32155 | 32068.890 |\n| picape cabine simples  | 2015 | 381 | 8 | 27.35878 | 32170 | 32271.761 |\n| cupe                   | 2015 | 375 | 8 | 37.01482 | 34995 | 35567.067 |\n| seda                   | 2012 | 280 | 6 | 46.67086 | 35705 | 39763.142 |\n| cupe                   | 2016 | 348 | 6 | 38.62416 | 33750 | 29795.713 |\n| seda                   | 2015 | 241 | 4 | 54.71756 | 38400 | 43858.565 |\n| seda                   | 2015 | 168 | 4 | 49.88954 | 20595 | 21434.219 |\n| picape cabine dupla    | 2007 | 295 | 8 | 30.57746 | 32690 | 32386.768 |\n| seda                   | 2015 | 220 | 4 | 53.10822 | 33200 | 40977.014 |\n| perua                  | 1995 | 162 | 4 | 38.62416 |  2000 |  2000.000 |\n| hatchback 4 portas     | 2013 | 200 | 4 | 49.88954 | 28795 | 28683.715 |\n| hatchback 4 portas     | 2017 | 173 | 4 | 51.49888 | 19800 | 19354.435 |\n| SUV 4 portas           | 2009 | 171 | 4 | 40.23350 | 24690 | 23948.631 |\n| picape cabine dupla    | 2012 | 320 | 8 | 33.79614 | 50305 | 41588.768 |\n| seda                   | 1995 | 168 | 5 | 41.84284 |  2000 |  2000.000 |\n| SUV 4 portas           | 2016 | 281 | 6 | 35.40548 | 34005 | 36861.281 |\n| seda                   | 2005 | 140 | 4 | 49.88954 | 20090 | 17047.768 |\n| picape cabine simples  | 1997 | 200 | 6 | 28.96812 |  2992 |  2561.923 |\n| minivan de passageiros | 2007 | 240 | 6 | 37.01482 | 23280 | 28449.983 |\n| seda                   | 1990 | 165 | 6 | 40.23350 |  2000 |  2000.000 |\n| seda                   | 2003 | 300 | 8 | 40.23350 | 49150 | 50933.850 |\n| hatchback 2 portas     | 2015 | 210 | 4 | 49.88954 | 25450 | 29118.520 |\n| cupe                   | 1995 | 222 | 6 | 37.01482 |  2575 |  2750.163 |\n| cupe                   | 2017 | 208 | 4 | 48.28020 | 41300 | 41061.557 |\n\n",
            "text/latex": "A data.frame: 2164 × 7\n\\begin{tabular}{lllllll}\n Estilo & Ano & Potencia\\_motor & Cilindros\\_motor & Consumo\\_estrada\\_km & Valor & .pred\\\\\n <chr> & <int> & <dbl> & <dbl> & <dbl> & <int> & <dbl>\\\\\n\\hline\n\t hatchback 2 portas      & 2015 & 106 & 4 & 59.54558 & 14845 & 16056.09\\\\\n\t seda                    & 2008 & 264 & 6 & 38.62416 & 25495 & 28489.01\\\\\n\t hatchback 2 portas      & 2005 & 210 & 4 & 45.06152 & 23670 & 25001.69\\\\\n\t perua                   & 1991 & 162 & 4 & 32.18680 &  2000 &  2000.00\\\\\n\t SUV 4 portas            & 2017 & 168 & 4 & 46.67086 & 23600 & 24951.54\\\\\n\t SUV 4 portas            & 2017 & 284 & 6 & 43.45218 & 36100 & 36703.74\\\\\n\t SUV 2 portas            & 2001 & 203 & 6 & 32.18680 & 21035 & 23570.72\\\\\n\t hatchback 4 portas      & 2016 & 138 & 4 & 59.54558 & 17905 & 18102.96\\\\\n\t hatchback 2 portas      & 2013 & 200 & 4 & 53.10822 & 31495 & 27757.42\\\\\n\t hatchback 4 portas      & 2017 & 164 & 4 & 54.71756 & 21990 & 19249.21\\\\\n\t minivan de passageiros  & 2005 & 200 & 6 & 37.01482 & 28110 & 28700.62\\\\\n\t seda                    & 2016 & 184 & 4 & 57.93624 & 21995 & 23941.57\\\\\n\t SUV 4 portas            & 2017 & 240 & 4 & 48.28020 & 40950 & 42286.87\\\\\n\t hatchback 4 portas      & 2016 & 188 & 4 & 49.88954 & 26940 & 23867.18\\\\\n\t seda                    & 2016 & 304 & 6 & 45.06152 & 31065 & 46479.19\\\\\n\t seda                    & 2016 & 178 & 4 & 56.32690 & 23070 & 24821.65\\\\\n\t seda                    & 2016 & 195 & 4 & 49.88954 & 27095 & 48533.29\\\\\n\t picape cabine estendida & 2017 & 385 & 8 & 33.79614 & 35870 & 42478.82\\\\\n\t picape cabine simples   & 2003 & 135 & 4 & 41.84284 & 13930 & 15034.50\\\\\n\t SUV 4 portas            & 2016 & 176 & 4 & 49.88954 & 24350 & 29216.34\\\\\n\t seda                    & 1995 & 225 & 6 & 41.84284 &  2000 &  2005.40\\\\\n\t seda                    & 2015 & 272 & 4 & 45.06152 & 57670 & 48041.77\\\\\n\t cupe                    & 2009 & 330 & 6 & 41.84284 & 35900 & 38349.42\\\\\n\t SUV 4 portas            & 2013 & 265 & 6 & 37.01482 & 42650 & 39530.02\\\\\n\t seda                    & 2017 & 200 & 4 & 49.88954 & 37820 & 36283.38\\\\\n\t SUV 4 portas            & 2017 & 250 & 4 & 41.84284 & 45750 & 41134.22\\\\\n\t SUV 4 portas            & 2011 & 166 & 4 & 40.23350 & 23449 & 22175.23\\\\\n\t hatchback 4 portas      & 2012 & 158 & 4 & 41.84284 & 21715 & 20323.25\\\\\n\t SUV 2 portas            & 2016 & 240 & 4 & 48.28020 & 46675 & 45644.61\\\\\n\t seda                    & 2004 & 225 & 4 & 45.06152 & 20450 & 31710.86\\\\\n\t ⋮ & ⋮ & ⋮ & ⋮ & ⋮ & ⋮ & ⋮\\\\\n\t SUV 4 portas           & 2016 & 420 & 8 & 35.40548 & 68025 & 67980.641\\\\\n\t picape cabine simples  & 1999 & 220 & 8 & 27.35878 &  2922 &  3359.843\\\\\n\t picape cabine simples  & 2002 & 120 & 4 & 40.23350 & 13961 & 16073.404\\\\\n\t minivan de passageiros & 2004 & 190 & 6 & 25.74944 & 26195 & 24332.963\\\\\n\t seda                   & 2005 & 215 & 6 & 37.01482 & 31105 & 25387.077\\\\\n\t seda                   & 2006 & 298 & 6 & 38.62416 & 31200 & 46041.983\\\\\n\t picape cabine dupla    & 2008 & 310 & 8 & 27.35878 & 32155 & 32068.890\\\\\n\t picape cabine simples  & 2015 & 381 & 8 & 27.35878 & 32170 & 32271.761\\\\\n\t cupe                   & 2015 & 375 & 8 & 37.01482 & 34995 & 35567.067\\\\\n\t seda                   & 2012 & 280 & 6 & 46.67086 & 35705 & 39763.142\\\\\n\t cupe                   & 2016 & 348 & 6 & 38.62416 & 33750 & 29795.713\\\\\n\t seda                   & 2015 & 241 & 4 & 54.71756 & 38400 & 43858.565\\\\\n\t seda                   & 2015 & 168 & 4 & 49.88954 & 20595 & 21434.219\\\\\n\t picape cabine dupla    & 2007 & 295 & 8 & 30.57746 & 32690 & 32386.768\\\\\n\t seda                   & 2015 & 220 & 4 & 53.10822 & 33200 & 40977.014\\\\\n\t perua                  & 1995 & 162 & 4 & 38.62416 &  2000 &  2000.000\\\\\n\t hatchback 4 portas     & 2013 & 200 & 4 & 49.88954 & 28795 & 28683.715\\\\\n\t hatchback 4 portas     & 2017 & 173 & 4 & 51.49888 & 19800 & 19354.435\\\\\n\t SUV 4 portas           & 2009 & 171 & 4 & 40.23350 & 24690 & 23948.631\\\\\n\t picape cabine dupla    & 2012 & 320 & 8 & 33.79614 & 50305 & 41588.768\\\\\n\t seda                   & 1995 & 168 & 5 & 41.84284 &  2000 &  2000.000\\\\\n\t SUV 4 portas           & 2016 & 281 & 6 & 35.40548 & 34005 & 36861.281\\\\\n\t seda                   & 2005 & 140 & 4 & 49.88954 & 20090 & 17047.768\\\\\n\t picape cabine simples  & 1997 & 200 & 6 & 28.96812 &  2992 &  2561.923\\\\\n\t minivan de passageiros & 2007 & 240 & 6 & 37.01482 & 23280 & 28449.983\\\\\n\t seda                   & 1990 & 165 & 6 & 40.23350 &  2000 &  2000.000\\\\\n\t seda                   & 2003 & 300 & 8 & 40.23350 & 49150 & 50933.850\\\\\n\t hatchback 2 portas     & 2015 & 210 & 4 & 49.88954 & 25450 & 29118.520\\\\\n\t cupe                   & 1995 & 222 & 6 & 37.01482 &  2575 &  2750.163\\\\\n\t cupe                   & 2017 & 208 & 4 & 48.28020 & 41300 & 41061.557\\\\\n\\end{tabular}\n",
            "text/plain": [
              "     Estilo                  Ano  Potencia_motor Cilindros_motor\n",
              "1    hatchback 2 portas      2015 106            4              \n",
              "2    seda                    2008 264            6              \n",
              "3    hatchback 2 portas      2005 210            4              \n",
              "4    perua                   1991 162            4              \n",
              "5    SUV 4 portas            2017 168            4              \n",
              "6    SUV 4 portas            2017 284            6              \n",
              "7    SUV 2 portas            2001 203            6              \n",
              "8    hatchback 4 portas      2016 138            4              \n",
              "9    hatchback 2 portas      2013 200            4              \n",
              "10   hatchback 4 portas      2017 164            4              \n",
              "11   minivan de passageiros  2005 200            6              \n",
              "12   seda                    2016 184            4              \n",
              "13   SUV 4 portas            2017 240            4              \n",
              "14   hatchback 4 portas      2016 188            4              \n",
              "15   seda                    2016 304            6              \n",
              "16   seda                    2016 178            4              \n",
              "17   seda                    2016 195            4              \n",
              "18   picape cabine estendida 2017 385            8              \n",
              "19   picape cabine simples   2003 135            4              \n",
              "20   SUV 4 portas            2016 176            4              \n",
              "21   seda                    1995 225            6              \n",
              "22   seda                    2015 272            4              \n",
              "23   cupe                    2009 330            6              \n",
              "24   SUV 4 portas            2013 265            6              \n",
              "25   seda                    2017 200            4              \n",
              "26   SUV 4 portas            2017 250            4              \n",
              "27   SUV 4 portas            2011 166            4              \n",
              "28   hatchback 4 portas      2012 158            4              \n",
              "29   SUV 2 portas            2016 240            4              \n",
              "30   seda                    2004 225            4              \n",
              "⋮    ⋮                       ⋮    ⋮              ⋮              \n",
              "2135 SUV 4 portas            2016 420            8              \n",
              "2136 picape cabine simples   1999 220            8              \n",
              "2137 picape cabine simples   2002 120            4              \n",
              "2138 minivan de passageiros  2004 190            6              \n",
              "2139 seda                    2005 215            6              \n",
              "2140 seda                    2006 298            6              \n",
              "2141 picape cabine dupla     2008 310            8              \n",
              "2142 picape cabine simples   2015 381            8              \n",
              "2143 cupe                    2015 375            8              \n",
              "2144 seda                    2012 280            6              \n",
              "2145 cupe                    2016 348            6              \n",
              "2146 seda                    2015 241            4              \n",
              "2147 seda                    2015 168            4              \n",
              "2148 picape cabine dupla     2007 295            8              \n",
              "2149 seda                    2015 220            4              \n",
              "2150 perua                   1995 162            4              \n",
              "2151 hatchback 4 portas      2013 200            4              \n",
              "2152 hatchback 4 portas      2017 173            4              \n",
              "2153 SUV 4 portas            2009 171            4              \n",
              "2154 picape cabine dupla     2012 320            8              \n",
              "2155 seda                    1995 168            5              \n",
              "2156 SUV 4 portas            2016 281            6              \n",
              "2157 seda                    2005 140            4              \n",
              "2158 picape cabine simples   1997 200            6              \n",
              "2159 minivan de passageiros  2007 240            6              \n",
              "2160 seda                    1990 165            6              \n",
              "2161 seda                    2003 300            8              \n",
              "2162 hatchback 2 portas      2015 210            4              \n",
              "2163 cupe                    1995 222            6              \n",
              "2164 cupe                    2017 208            4              \n",
              "     Consumo_estrada_km Valor .pred    \n",
              "1    59.54558           14845 16056.09 \n",
              "2    38.62416           25495 28489.01 \n",
              "3    45.06152           23670 25001.69 \n",
              "4    32.18680            2000  2000.00 \n",
              "5    46.67086           23600 24951.54 \n",
              "6    43.45218           36100 36703.74 \n",
              "7    32.18680           21035 23570.72 \n",
              "8    59.54558           17905 18102.96 \n",
              "9    53.10822           31495 27757.42 \n",
              "10   54.71756           21990 19249.21 \n",
              "11   37.01482           28110 28700.62 \n",
              "12   57.93624           21995 23941.57 \n",
              "13   48.28020           40950 42286.87 \n",
              "14   49.88954           26940 23867.18 \n",
              "15   45.06152           31065 46479.19 \n",
              "16   56.32690           23070 24821.65 \n",
              "17   49.88954           27095 48533.29 \n",
              "18   33.79614           35870 42478.82 \n",
              "19   41.84284           13930 15034.50 \n",
              "20   49.88954           24350 29216.34 \n",
              "21   41.84284            2000  2005.40 \n",
              "22   45.06152           57670 48041.77 \n",
              "23   41.84284           35900 38349.42 \n",
              "24   37.01482           42650 39530.02 \n",
              "25   49.88954           37820 36283.38 \n",
              "26   41.84284           45750 41134.22 \n",
              "27   40.23350           23449 22175.23 \n",
              "28   41.84284           21715 20323.25 \n",
              "29   48.28020           46675 45644.61 \n",
              "30   45.06152           20450 31710.86 \n",
              "⋮    ⋮                  ⋮     ⋮        \n",
              "2135 35.40548           68025 67980.641\n",
              "2136 27.35878            2922  3359.843\n",
              "2137 40.23350           13961 16073.404\n",
              "2138 25.74944           26195 24332.963\n",
              "2139 37.01482           31105 25387.077\n",
              "2140 38.62416           31200 46041.983\n",
              "2141 27.35878           32155 32068.890\n",
              "2142 27.35878           32170 32271.761\n",
              "2143 37.01482           34995 35567.067\n",
              "2144 46.67086           35705 39763.142\n",
              "2145 38.62416           33750 29795.713\n",
              "2146 54.71756           38400 43858.565\n",
              "2147 49.88954           20595 21434.219\n",
              "2148 30.57746           32690 32386.768\n",
              "2149 53.10822           33200 40977.014\n",
              "2150 38.62416            2000  2000.000\n",
              "2151 49.88954           28795 28683.715\n",
              "2152 51.49888           19800 19354.435\n",
              "2153 40.23350           24690 23948.631\n",
              "2154 33.79614           50305 41588.768\n",
              "2155 41.84284            2000  2000.000\n",
              "2156 35.40548           34005 36861.281\n",
              "2157 49.88954           20090 17047.768\n",
              "2158 28.96812            2992  2561.923\n",
              "2159 37.01482           23280 28449.983\n",
              "2160 40.23350            2000  2000.000\n",
              "2161 40.23350           49150 50933.850\n",
              "2162 49.88954           25450 29118.520\n",
              "2163 37.01482            2575  2750.163\n",
              "2164 48.28020           41300 41061.557"
            ]
          },
          "metadata": {}
        }
      ]
    },
    {
      "cell_type": "code",
      "source": [
        "calcular_metricas <- function(predicoes, valores_reais) {\n",
        "  resultado <- tibble(\n",
        "    predicao = predicoes,\n",
        "    real = valores_reais\n",
        "  )\n",
        "\n",
        "  metricas <- resultado %>%\n",
        "    metrics(truth = real, estimate = predicao)\n",
        "  return(metricas)\n",
        "}"
      ],
      "metadata": {
        "id": "qw370Qr9MiBj"
      },
      "execution_count": 17,
      "outputs": []
    },
    {
      "cell_type": "code",
      "source": [
        "set.seed(4556)\n",
        "\n",
        "df_folds <- vfold_cv(df_treino, v = 5)"
      ],
      "metadata": {
        "id": "w-qFhen6Nt76"
      },
      "execution_count": 19,
      "outputs": []
    },
    {
      "cell_type": "code",
      "source": [
        "# Calculando métricas de desempenho do Bagging:\n",
        "# - RMSE (Root Mean Squared Error)\n",
        "# - R² (Coeficiente de Determinação)\n",
        "# - MAE (Mean Absolute Error)\n",
        "metricas_badding <- calcular_metricas(predicoes_badding$.pred, predicoes_badding$Valor)\n",
        "metricas_badding"
      ],
      "metadata": {
        "colab": {
          "base_uri": "https://localhost:8080/",
          "height": 192
        },
        "id": "EkVZ33STNA6i",
        "outputId": "ec2d611d-0625-454a-9115-d74848f0338c"
      },
      "execution_count": 18,
      "outputs": [
        {
          "output_type": "display_data",
          "data": {
            "text/html": [
              "<table class=\"dataframe\">\n",
              "<caption>A tibble: 3 × 3</caption>\n",
              "<thead>\n",
              "\t<tr><th scope=col>.metric</th><th scope=col>.estimator</th><th scope=col>.estimate</th></tr>\n",
              "\t<tr><th scope=col>&lt;chr&gt;</th><th scope=col>&lt;chr&gt;</th><th scope=col>&lt;dbl&gt;</th></tr>\n",
              "</thead>\n",
              "<tbody>\n",
              "\t<tr><td>rmse</td><td>standard</td><td>4562.5555314</td></tr>\n",
              "\t<tr><td>rsq </td><td>standard</td><td>   0.9173159</td></tr>\n",
              "\t<tr><td>mae </td><td>standard</td><td>3022.3345081</td></tr>\n",
              "</tbody>\n",
              "</table>\n"
            ],
            "text/markdown": "\nA tibble: 3 × 3\n\n| .metric &lt;chr&gt; | .estimator &lt;chr&gt; | .estimate &lt;dbl&gt; |\n|---|---|---|\n| rmse | standard | 4562.5555314 |\n| rsq  | standard |    0.9173159 |\n| mae  | standard | 3022.3345081 |\n\n",
            "text/latex": "A tibble: 3 × 3\n\\begin{tabular}{lll}\n .metric & .estimator & .estimate\\\\\n <chr> & <chr> & <dbl>\\\\\n\\hline\n\t rmse & standard & 4562.5555314\\\\\n\t rsq  & standard &    0.9173159\\\\\n\t mae  & standard & 3022.3345081\\\\\n\\end{tabular}\n",
            "text/plain": [
              "  .metric .estimator .estimate   \n",
              "1 rmse    standard   4562.5555314\n",
              "2 rsq     standard      0.9173159\n",
              "3 mae     standard   3022.3345081"
            ]
          },
          "metadata": {}
        }
      ]
    },
    {
      "cell_type": "code",
      "source": [
        "# Avaliando a performance do modelo Bagging com validação cruzada (resampling)\n",
        "set.seed(4456)\n",
        "\n",
        "fits_cv <- fit_resamples(bagging,\n",
        "                         Valor ~ Estilo + Ano + Potencia_motor,\n",
        "                         resamples = df_folds,\n",
        "                         metrics = metric_set(rmse, mae, rsq))"
      ],
      "metadata": {
        "id": "0fHg5ox_NMsn"
      },
      "execution_count": 20,
      "outputs": []
    },
    {
      "cell_type": "code",
      "source": [
        "# Coletando as métricas médias da validação cruzada\n",
        "media_metricas_badding <- collect_metrics(fits_cv)\n",
        "media_metricas_badding"
      ],
      "metadata": {
        "colab": {
          "base_uri": "https://localhost:8080/",
          "height": 192
        },
        "id": "mKmK4QwROH4B",
        "outputId": "0e740c39-b3da-418b-e995-25df933fb715"
      },
      "execution_count": 21,
      "outputs": [
        {
          "output_type": "display_data",
          "data": {
            "text/html": [
              "<table class=\"dataframe\">\n",
              "<caption>A tibble: 3 × 6</caption>\n",
              "<thead>\n",
              "\t<tr><th scope=col>.metric</th><th scope=col>.estimator</th><th scope=col>mean</th><th scope=col>n</th><th scope=col>std_err</th><th scope=col>.config</th></tr>\n",
              "\t<tr><th scope=col>&lt;chr&gt;</th><th scope=col>&lt;chr&gt;</th><th scope=col>&lt;dbl&gt;</th><th scope=col>&lt;int&gt;</th><th scope=col>&lt;dbl&gt;</th><th scope=col>&lt;chr&gt;</th></tr>\n",
              "</thead>\n",
              "<tbody>\n",
              "\t<tr><td>mae </td><td>standard</td><td>2975.1605054</td><td>5</td><td>34.638275543</td><td>pre0_mod0_post0</td></tr>\n",
              "\t<tr><td>rmse</td><td>standard</td><td>4575.2697907</td><td>5</td><td>83.031434098</td><td>pre0_mod0_post0</td></tr>\n",
              "\t<tr><td>rsq </td><td>standard</td><td>   0.9180205</td><td>5</td><td> 0.002730385</td><td>pre0_mod0_post0</td></tr>\n",
              "</tbody>\n",
              "</table>\n"
            ],
            "text/markdown": "\nA tibble: 3 × 6\n\n| .metric &lt;chr&gt; | .estimator &lt;chr&gt; | mean &lt;dbl&gt; | n &lt;int&gt; | std_err &lt;dbl&gt; | .config &lt;chr&gt; |\n|---|---|---|---|---|---|\n| mae  | standard | 2975.1605054 | 5 | 34.638275543 | pre0_mod0_post0 |\n| rmse | standard | 4575.2697907 | 5 | 83.031434098 | pre0_mod0_post0 |\n| rsq  | standard |    0.9180205 | 5 |  0.002730385 | pre0_mod0_post0 |\n\n",
            "text/latex": "A tibble: 3 × 6\n\\begin{tabular}{llllll}\n .metric & .estimator & mean & n & std\\_err & .config\\\\\n <chr> & <chr> & <dbl> & <int> & <dbl> & <chr>\\\\\n\\hline\n\t mae  & standard & 2975.1605054 & 5 & 34.638275543 & pre0\\_mod0\\_post0\\\\\n\t rmse & standard & 4575.2697907 & 5 & 83.031434098 & pre0\\_mod0\\_post0\\\\\n\t rsq  & standard &    0.9180205 & 5 &  0.002730385 & pre0\\_mod0\\_post0\\\\\n\\end{tabular}\n",
            "text/plain": [
              "  .metric .estimator mean         n std_err      .config        \n",
              "1 mae     standard   2975.1605054 5 34.638275543 pre0_mod0_post0\n",
              "2 rmse    standard   4575.2697907 5 83.031434098 pre0_mod0_post0\n",
              "3 rsq     standard      0.9180205 5  0.002730385 pre0_mod0_post0"
            ]
          },
          "metadata": {}
        }
      ]
    },
    {
      "cell_type": "code",
      "source": [
        "# RANDOM FOREST\n",
        "\n",
        "# Instalando e carregando o pacote necessário\n",
        "install.packages('randomForest')"
      ],
      "metadata": {
        "colab": {
          "base_uri": "https://localhost:8080/"
        },
        "id": "sFxkgw8ZOQbL",
        "outputId": "dabbea84-ca6d-45af-81ae-8d1263b6e308"
      },
      "execution_count": 22,
      "outputs": [
        {
          "output_type": "stream",
          "name": "stderr",
          "text": [
            "Installing package into ‘/usr/local/lib/R/site-library’\n",
            "(as ‘lib’ is unspecified)\n",
            "\n"
          ]
        }
      ]
    },
    {
      "cell_type": "code",
      "source": [
        "library(randomForest)"
      ],
      "metadata": {
        "colab": {
          "base_uri": "https://localhost:8080/"
        },
        "id": "F9O-t97EOWXt",
        "outputId": "9ca3601a-e09d-49c1-c6e6-33e49a9d226f"
      },
      "execution_count": 23,
      "outputs": [
        {
          "output_type": "stream",
          "name": "stderr",
          "text": [
            "randomForest 4.7-1.2\n",
            "\n",
            "Type rfNews() to see new features/changes/bug fixes.\n",
            "\n",
            "\n",
            "Attaching package: ‘randomForest’\n",
            "\n",
            "\n",
            "The following object is masked from ‘package:ggplot2’:\n",
            "\n",
            "    margin\n",
            "\n",
            "\n",
            "The following object is masked from ‘package:dplyr’:\n",
            "\n",
            "    combine\n",
            "\n",
            "\n",
            "The following object is masked from ‘package:ranger’:\n",
            "\n",
            "    importance\n",
            "\n",
            "\n"
          ]
        }
      ]
    },
    {
      "cell_type": "code",
      "source": [
        "# Definição do modelo Random Forest:\n",
        "# - rand_forest(): cria um modelo de floresta aleatória\n",
        "# - trees = 100: número de árvores\n",
        "# - set_mode('regression'): regressão\n",
        "# - set_engine('ranger'): usa o motor ranger (rápido e eficiente)\n",
        "floresta_aleatoria <- rand_forest(trees = 100) %>%\n",
        "  set_mode('regression') %>%\n",
        "  set_engine('ranger')"
      ],
      "metadata": {
        "id": "6P2Uwx3aOZ2b"
      },
      "execution_count": 25,
      "outputs": []
    },
    {
      "cell_type": "code",
      "source": [
        "# Ajustando o modelo Random Forest\n",
        "set.seed(4456)\n",
        "\n",
        "modelo_floresta_aleatoria <- floresta_aleatoria %>%\n",
        "  fit(Valor ~ Estilo + Ano + Potencia_motor, data = df_treino)"
      ],
      "metadata": {
        "id": "eCFQZK8BOo-w"
      },
      "execution_count": 26,
      "outputs": []
    },
    {
      "cell_type": "code",
      "source": [
        "# Visualizando informações do modelo treinado\n",
        "modelo_floresta_aleatoria"
      ],
      "metadata": {
        "colab": {
          "base_uri": "https://localhost:8080/",
          "height": 326
        },
        "id": "j1cnJxafO2Rr",
        "outputId": "303d2f61-ce87-489f-e3f4-8db2ec89d4b7"
      },
      "execution_count": 27,
      "outputs": [
        {
          "output_type": "display_data",
          "data": {
            "text/plain": [
              "parsnip model object\n",
              "\n",
              "Ranger result\n",
              "\n",
              "Call:\n",
              " ranger::ranger(x = maybe_data_frame(x), y = y, num.trees = ~100,      num.threads = 1, verbose = FALSE, seed = sample.int(10^5,          1)) \n",
              "\n",
              "Type:                             Regression \n",
              "Number of trees:                  100 \n",
              "Sample size:                      8655 \n",
              "Number of independent variables:  3 \n",
              "Mtry:                             1 \n",
              "Target node size:                 5 \n",
              "Variable importance mode:         none \n",
              "Splitrule:                        variance \n",
              "OOB prediction error (MSE):       27633249 \n",
              "R squared (OOB):                  0.891849 "
            ]
          },
          "metadata": {}
        }
      ]
    },
    {
      "cell_type": "code",
      "source": [
        "# Fazendo previsões no conjunto de teste\n",
        "predicoes <- predict(modelo_floresta_aleatoria, new_data = df_teste)"
      ],
      "metadata": {
        "id": "CtpZwgOqO8ne"
      },
      "execution_count": 28,
      "outputs": []
    },
    {
      "cell_type": "code",
      "source": [
        "predicoes_floresta <- bind_cols(df_teste, predicoes)"
      ],
      "metadata": {
        "id": "s6kOzQSUPFU0"
      },
      "execution_count": 29,
      "outputs": []
    },
    {
      "cell_type": "code",
      "source": [
        "# Calculando métricas de desempenho do Random Forest\n",
        "metricas_floresta <- calcular_metricas(predicoes_floresta$.pred, predicoes_floresta$Valor)\n",
        "metricas_floresta"
      ],
      "metadata": {
        "colab": {
          "base_uri": "https://localhost:8080/",
          "height": 192
        },
        "id": "Lr1SsmFNPKhc",
        "outputId": "38ef9d71-ca92-4795-85fd-e519bcad9bec"
      },
      "execution_count": 30,
      "outputs": [
        {
          "output_type": "display_data",
          "data": {
            "text/html": [
              "<table class=\"dataframe\">\n",
              "<caption>A tibble: 3 × 3</caption>\n",
              "<thead>\n",
              "\t<tr><th scope=col>.metric</th><th scope=col>.estimator</th><th scope=col>.estimate</th></tr>\n",
              "\t<tr><th scope=col>&lt;chr&gt;</th><th scope=col>&lt;chr&gt;</th><th scope=col>&lt;dbl&gt;</th></tr>\n",
              "</thead>\n",
              "<tbody>\n",
              "\t<tr><td>rmse</td><td>standard</td><td>5288.1087367</td></tr>\n",
              "\t<tr><td>rsq </td><td>standard</td><td>   0.8930113</td></tr>\n",
              "\t<tr><td>mae </td><td>standard</td><td>3596.6924404</td></tr>\n",
              "</tbody>\n",
              "</table>\n"
            ],
            "text/markdown": "\nA tibble: 3 × 3\n\n| .metric &lt;chr&gt; | .estimator &lt;chr&gt; | .estimate &lt;dbl&gt; |\n|---|---|---|\n| rmse | standard | 5288.1087367 |\n| rsq  | standard |    0.8930113 |\n| mae  | standard | 3596.6924404 |\n\n",
            "text/latex": "A tibble: 3 × 3\n\\begin{tabular}{lll}\n .metric & .estimator & .estimate\\\\\n <chr> & <chr> & <dbl>\\\\\n\\hline\n\t rmse & standard & 5288.1087367\\\\\n\t rsq  & standard &    0.8930113\\\\\n\t mae  & standard & 3596.6924404\\\\\n\\end{tabular}\n",
            "text/plain": [
              "  .metric .estimator .estimate   \n",
              "1 rmse    standard   5288.1087367\n",
              "2 rsq     standard      0.8930113\n",
              "3 mae     standard   3596.6924404"
            ]
          },
          "metadata": {}
        }
      ]
    },
    {
      "cell_type": "code",
      "source": [
        "# Avaliando a performance do modelo Random Forest com validação cruzada\n",
        "floresta_aleatoria <- rand_forest(trees = 100, mtry = 2 ) %>%\n",
        "  set_mode('regression') %>%\n",
        "  set_engine('ranger')"
      ],
      "metadata": {
        "id": "KPWeDWdkPXoc"
      },
      "execution_count": 31,
      "outputs": []
    },
    {
      "cell_type": "code",
      "source": [
        "set.seed(4456)\n",
        "\n",
        "fits_cv <- fit_resamples(floresta_aleatoria,\n",
        "                         Valor ~ Estilo + Ano + Potencia_motor,\n",
        "                         resamples = df_folds,\n",
        "                         metrics = metric_set(rmse, mae, rsq))"
      ],
      "metadata": {
        "id": "kgT01DqlPlNS"
      },
      "execution_count": 32,
      "outputs": []
    },
    {
      "cell_type": "code",
      "source": [
        "# Coletando métricas médias da validação cruzada\n",
        "media_metricas_floresta <- collect_metrics(fits_cv)\n",
        "media_metricas_floresta\n"
      ],
      "metadata": {
        "colab": {
          "base_uri": "https://localhost:8080/",
          "height": 192
        },
        "id": "dhk4dICfP2_S",
        "outputId": "3993b31a-ca10-47d9-c20c-537ec6dfa777"
      },
      "execution_count": 33,
      "outputs": [
        {
          "output_type": "display_data",
          "data": {
            "text/html": [
              "<table class=\"dataframe\">\n",
              "<caption>A tibble: 3 × 6</caption>\n",
              "<thead>\n",
              "\t<tr><th scope=col>.metric</th><th scope=col>.estimator</th><th scope=col>mean</th><th scope=col>n</th><th scope=col>std_err</th><th scope=col>.config</th></tr>\n",
              "\t<tr><th scope=col>&lt;chr&gt;</th><th scope=col>&lt;chr&gt;</th><th scope=col>&lt;dbl&gt;</th><th scope=col>&lt;int&gt;</th><th scope=col>&lt;dbl&gt;</th><th scope=col>&lt;chr&gt;</th></tr>\n",
              "</thead>\n",
              "<tbody>\n",
              "\t<tr><td>mae </td><td>standard</td><td>2966.1068016</td><td>5</td><td>34.234648351</td><td>pre0_mod0_post0</td></tr>\n",
              "\t<tr><td>rmse</td><td>standard</td><td>4529.4666225</td><td>5</td><td>71.117077538</td><td>pre0_mod0_post0</td></tr>\n",
              "\t<tr><td>rsq </td><td>standard</td><td>   0.9196171</td><td>5</td><td> 0.002152886</td><td>pre0_mod0_post0</td></tr>\n",
              "</tbody>\n",
              "</table>\n"
            ],
            "text/markdown": "\nA tibble: 3 × 6\n\n| .metric &lt;chr&gt; | .estimator &lt;chr&gt; | mean &lt;dbl&gt; | n &lt;int&gt; | std_err &lt;dbl&gt; | .config &lt;chr&gt; |\n|---|---|---|---|---|---|\n| mae  | standard | 2966.1068016 | 5 | 34.234648351 | pre0_mod0_post0 |\n| rmse | standard | 4529.4666225 | 5 | 71.117077538 | pre0_mod0_post0 |\n| rsq  | standard |    0.9196171 | 5 |  0.002152886 | pre0_mod0_post0 |\n\n",
            "text/latex": "A tibble: 3 × 6\n\\begin{tabular}{llllll}\n .metric & .estimator & mean & n & std\\_err & .config\\\\\n <chr> & <chr> & <dbl> & <int> & <dbl> & <chr>\\\\\n\\hline\n\t mae  & standard & 2966.1068016 & 5 & 34.234648351 & pre0\\_mod0\\_post0\\\\\n\t rmse & standard & 4529.4666225 & 5 & 71.117077538 & pre0\\_mod0\\_post0\\\\\n\t rsq  & standard &    0.9196171 & 5 &  0.002152886 & pre0\\_mod0\\_post0\\\\\n\\end{tabular}\n",
            "text/plain": [
              "  .metric .estimator mean         n std_err      .config        \n",
              "1 mae     standard   2966.1068016 5 34.234648351 pre0_mod0_post0\n",
              "2 rmse    standard   4529.4666225 5 71.117077538 pre0_mod0_post0\n",
              "3 rsq     standard      0.9196171 5  0.002152886 pre0_mod0_post0"
            ]
          },
          "metadata": {}
        }
      ]
    }
  ]
}