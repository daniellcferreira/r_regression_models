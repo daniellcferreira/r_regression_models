{
  "nbformat": 4,
  "nbformat_minor": 0,
  "metadata": {
    "colab": {
      "provenance": []
    },
    "kernelspec": {
      "name": "ir",
      "display_name": "R"
    },
    "language_info": {
      "name": "R"
    }
  },
  "cells": [
    {
      "cell_type": "code",
      "execution_count": 2,
      "metadata": {
        "colab": {
          "base_uri": "https://localhost:8080/"
        },
        "id": "WXrK_NS7LaQz",
        "outputId": "bbe33d4d-9755-405c-fc23-ef624dfbdb2a"
      },
      "outputs": [
        {
          "output_type": "stream",
          "name": "stderr",
          "text": [
            "Installing package into ‘/usr/local/lib/R/site-library’\n",
            "(as ‘lib’ is unspecified)\n",
            "\n",
            "also installing the dependencies ‘shape’, ‘future.apply’, ‘numDeriv’, ‘progressr’, ‘SQUAREM’, ‘diagram’, ‘lava’, ‘listenv’, ‘parallelly’, ‘prodlim’, ‘future’, ‘warp’, ‘lhs’, ‘DiceDesign’, ‘sfd’, ‘sparsevctrs’, ‘patchwork’, ‘globals’, ‘clock’, ‘gower’, ‘ipred’, ‘timeDate’, ‘furrr’, ‘slider’, ‘GPfit’, ‘modelenv’, ‘dials’, ‘hardhat’, ‘infer’, ‘modeldata’, ‘parsnip’, ‘recipes’, ‘rsample’, ‘tailor’, ‘tune’, ‘workflows’, ‘workflowsets’, ‘yardstick’\n",
            "\n",
            "\n"
          ]
        }
      ],
      "source": [
        "# Árvore de Decisão\n",
        "# Instalação e carregamento do pacote tidymodels\n",
        "install.packages('tidymodels')"
      ]
    },
    {
      "cell_type": "code",
      "source": [
        "library(tidymodels)"
      ],
      "metadata": {
        "colab": {
          "base_uri": "https://localhost:8080/"
        },
        "id": "h64h6T0_OTwI",
        "outputId": "6624a7f9-3d3f-4ca0-e510-8a92a73c386c"
      },
      "execution_count": 3,
      "outputs": [
        {
          "output_type": "stream",
          "name": "stderr",
          "text": [
            "── \u001b[1mAttaching packages\u001b[22m ────────────────────────────────────── tidymodels 1.4.1 ──\n",
            "\n",
            "\u001b[32m✔\u001b[39m \u001b[34mbroom       \u001b[39m 1.0.10     \u001b[32m✔\u001b[39m \u001b[34mrecipes     \u001b[39m 1.3.1 \n",
            "\u001b[32m✔\u001b[39m \u001b[34mdials       \u001b[39m 1.4.2      \u001b[32m✔\u001b[39m \u001b[34mrsample     \u001b[39m 1.3.1 \n",
            "\u001b[32m✔\u001b[39m \u001b[34mdplyr       \u001b[39m 1.1.4      \u001b[32m✔\u001b[39m \u001b[34mtailor      \u001b[39m 0.1.0 \n",
            "\u001b[32m✔\u001b[39m \u001b[34mggplot2     \u001b[39m 4.0.0      \u001b[32m✔\u001b[39m \u001b[34mtidyr       \u001b[39m 1.3.1 \n",
            "\u001b[32m✔\u001b[39m \u001b[34minfer       \u001b[39m 1.0.9      \u001b[32m✔\u001b[39m \u001b[34mtune        \u001b[39m 2.0.0 \n",
            "\u001b[32m✔\u001b[39m \u001b[34mmodeldata   \u001b[39m 1.5.1      \u001b[32m✔\u001b[39m \u001b[34mworkflows   \u001b[39m 1.3.0 \n",
            "\u001b[32m✔\u001b[39m \u001b[34mparsnip     \u001b[39m 1.3.3      \u001b[32m✔\u001b[39m \u001b[34mworkflowsets\u001b[39m 1.1.1 \n",
            "\u001b[32m✔\u001b[39m \u001b[34mpurrr       \u001b[39m 1.1.0      \u001b[32m✔\u001b[39m \u001b[34myardstick   \u001b[39m 1.3.2 \n",
            "\n",
            "── \u001b[1mConflicts\u001b[22m ───────────────────────────────────────── tidymodels_conflicts() ──\n",
            "\u001b[31m✖\u001b[39m \u001b[34mpurrr\u001b[39m::\u001b[32mdiscard()\u001b[39m masks \u001b[34mscales\u001b[39m::discard()\n",
            "\u001b[31m✖\u001b[39m \u001b[34mdplyr\u001b[39m::\u001b[32mfilter()\u001b[39m  masks \u001b[34mstats\u001b[39m::filter()\n",
            "\u001b[31m✖\u001b[39m \u001b[34mdplyr\u001b[39m::\u001b[32mlag()\u001b[39m     masks \u001b[34mstats\u001b[39m::lag()\n",
            "\u001b[31m✖\u001b[39m \u001b[34mrecipes\u001b[39m::\u001b[32mstep()\u001b[39m  masks \u001b[34mstats\u001b[39m::step()\n",
            "\n"
          ]
        }
      ]
    },
    {
      "cell_type": "code",
      "source": [
        "dados <- read.csv('automoveis_usados.csv')"
      ],
      "metadata": {
        "id": "3CgtXq4eOZbs"
      },
      "execution_count": 4,
      "outputs": []
    },
    {
      "cell_type": "code",
      "source": [
        "head(dados)"
      ],
      "metadata": {
        "colab": {
          "base_uri": "https://localhost:8080/",
          "height": 286
        },
        "id": "xY9u0DE-PAR6",
        "outputId": "c01237c8-3e17-43c7-e8af-406440b77df7"
      },
      "execution_count": 5,
      "outputs": [
        {
          "output_type": "display_data",
          "data": {
            "text/html": [
              "<table class=\"dataframe\">\n",
              "<caption>A data.frame: 6 × 6</caption>\n",
              "<thead>\n",
              "\t<tr><th></th><th scope=col>Estilo</th><th scope=col>Ano</th><th scope=col>Potencia_motor</th><th scope=col>Cilindros_motor</th><th scope=col>Consumo_estrada_km</th><th scope=col>Valor</th></tr>\n",
              "\t<tr><th></th><th scope=col>&lt;chr&gt;</th><th scope=col>&lt;int&gt;</th><th scope=col>&lt;dbl&gt;</th><th scope=col>&lt;dbl&gt;</th><th scope=col>&lt;dbl&gt;</th><th scope=col>&lt;int&gt;</th></tr>\n",
              "</thead>\n",
              "<tbody>\n",
              "\t<tr><th scope=row>1</th><td>SUV 4 portas           </td><td>2005</td><td>275</td><td>6</td><td>28.96812</td><td>29695</td></tr>\n",
              "\t<tr><th scope=row>2</th><td>seda                   </td><td>2016</td><td>170</td><td>4</td><td>61.15492</td><td>30495</td></tr>\n",
              "\t<tr><th scope=row>3</th><td>minivan de passageiros </td><td>2016</td><td>248</td><td>6</td><td>45.06152</td><td>37650</td></tr>\n",
              "\t<tr><th scope=row>4</th><td>seda                   </td><td>2015</td><td>138</td><td>4</td><td>57.93624</td><td>16170</td></tr>\n",
              "\t<tr><th scope=row>5</th><td>seda                   </td><td>1991</td><td>162</td><td>4</td><td>32.18680</td><td> 2000</td></tr>\n",
              "\t<tr><th scope=row>6</th><td>picape cabine estendida</td><td>2012</td><td>152</td><td>4</td><td>37.01482</td><td>19299</td></tr>\n",
              "</tbody>\n",
              "</table>\n"
            ],
            "text/markdown": "\nA data.frame: 6 × 6\n\n| <!--/--> | Estilo &lt;chr&gt; | Ano &lt;int&gt; | Potencia_motor &lt;dbl&gt; | Cilindros_motor &lt;dbl&gt; | Consumo_estrada_km &lt;dbl&gt; | Valor &lt;int&gt; |\n|---|---|---|---|---|---|---|\n| 1 | SUV 4 portas            | 2005 | 275 | 6 | 28.96812 | 29695 |\n| 2 | seda                    | 2016 | 170 | 4 | 61.15492 | 30495 |\n| 3 | minivan de passageiros  | 2016 | 248 | 6 | 45.06152 | 37650 |\n| 4 | seda                    | 2015 | 138 | 4 | 57.93624 | 16170 |\n| 5 | seda                    | 1991 | 162 | 4 | 32.18680 |  2000 |\n| 6 | picape cabine estendida | 2012 | 152 | 4 | 37.01482 | 19299 |\n\n",
            "text/latex": "A data.frame: 6 × 6\n\\begin{tabular}{r|llllll}\n  & Estilo & Ano & Potencia\\_motor & Cilindros\\_motor & Consumo\\_estrada\\_km & Valor\\\\\n  & <chr> & <int> & <dbl> & <dbl> & <dbl> & <int>\\\\\n\\hline\n\t1 & SUV 4 portas            & 2005 & 275 & 6 & 28.96812 & 29695\\\\\n\t2 & seda                    & 2016 & 170 & 4 & 61.15492 & 30495\\\\\n\t3 & minivan de passageiros  & 2016 & 248 & 6 & 45.06152 & 37650\\\\\n\t4 & seda                    & 2015 & 138 & 4 & 57.93624 & 16170\\\\\n\t5 & seda                    & 1991 & 162 & 4 & 32.18680 &  2000\\\\\n\t6 & picape cabine estendida & 2012 & 152 & 4 & 37.01482 & 19299\\\\\n\\end{tabular}\n",
            "text/plain": [
              "  Estilo                  Ano  Potencia_motor Cilindros_motor\n",
              "1 SUV 4 portas            2005 275            6              \n",
              "2 seda                    2016 170            4              \n",
              "3 minivan de passageiros  2016 248            6              \n",
              "4 seda                    2015 138            4              \n",
              "5 seda                    1991 162            4              \n",
              "6 picape cabine estendida 2012 152            4              \n",
              "  Consumo_estrada_km Valor\n",
              "1 28.96812           29695\n",
              "2 61.15492           30495\n",
              "3 45.06152           37650\n",
              "4 57.93624           16170\n",
              "5 32.18680            2000\n",
              "6 37.01482           19299"
            ]
          },
          "metadata": {}
        }
      ]
    },
    {
      "cell_type": "code",
      "source": [
        "# Separando os dados em treino e teste\n",
        "set.seed(6578)\n",
        "\n",
        "# Divide em 80% treino e 20% teste\n",
        "df_split <- initial_split(dados, prop = 0.8)\n",
        "df_split"
      ],
      "metadata": {
        "colab": {
          "base_uri": "https://localhost:8080/",
          "height": 53
        },
        "id": "A9qAlPhOPCXQ",
        "outputId": "080e92ba-5559-4a5f-9b5c-751a21977a73"
      },
      "execution_count": 6,
      "outputs": [
        {
          "output_type": "display_data",
          "data": {
            "text/plain": [
              "<Training/Testing/Total>\n",
              "<8655/2164/10819>"
            ]
          },
          "metadata": {}
        }
      ]
    },
    {
      "cell_type": "code",
      "source": [
        "df_treino <- training(df_split)\n",
        "df_teste <- testing(df_split)"
      ],
      "metadata": {
        "id": "E0D22ccGPORx"
      },
      "execution_count": 7,
      "outputs": []
    },
    {
      "cell_type": "code",
      "source": [
        "# Definindo e treinando o modelo de árvore de decisão\n",
        "arvore <- decision_tree() %>%\n",
        "  set_engine('rpart') %>%     # motor 'rpart' para regressão\n",
        "  set_mode('regression')      # modo regressão (previsão de valores numéricos)"
      ],
      "metadata": {
        "id": "cTiQRBi8PcJ4"
      },
      "execution_count": 8,
      "outputs": []
    },
    {
      "cell_type": "code",
      "source": [
        "set.seed(4556)\n",
        "\n",
        "# Treinando a árvore com as variáveis Estilo, Ano e Potência do motor\n",
        "modelo_arvore_decisao <- arvore %>%\n",
        "  fit(Valor ~ Estilo + Ano + Potencia_motor, data = df_treino)"
      ],
      "metadata": {
        "id": "tDuQ2gZTPr-E"
      },
      "execution_count": 9,
      "outputs": []
    },
    {
      "cell_type": "code",
      "source": [
        "# Estrutura da árvore treinada\n",
        "modelo_arvore_decisao"
      ],
      "metadata": {
        "colab": {
          "base_uri": "https://localhost:8080/",
          "height": 398
        },
        "id": "Q0nVThQyQEPy",
        "outputId": "24012989-e090-40c0-8ee4-4210a4a48416"
      },
      "execution_count": 10,
      "outputs": [
        {
          "output_type": "display_data",
          "data": {
            "text/plain": [
              "parsnip model object\n",
              "\n",
              "n= 8655 \n",
              "\n",
              "node), split, n, deviance, yval\n",
              "      * denotes terminal node\n",
              "\n",
              " 1) root 8655 2.211151e+12 28564.100  \n",
              "   2) Ano< 2000.5 1344 6.595049e+09  2526.276 *\n",
              "   3) Ano>=2000.5 7311 1.125860e+12 33350.700  \n",
              "     6) Potencia_motor< 216 3344 1.287282e+11 24209.120  \n",
              "      12) Potencia_motor< 166.5 1392 2.697496e+10 19965.940 *\n",
              "      13) Potencia_motor>=166.5 1952 5.881843e+10 27235.000 *\n",
              "     7) Potencia_motor>=216 3967 4.821132e+11 41056.630  \n",
              "      14) Potencia_motor< 310.5 2800 2.144520e+11 37429.220  \n",
              "        28) Estilo=hatchback 2 portas,minivan de carga,minivan de passageiros,picape cabine dupla,picape cabine estendida,picape cabine simples,van de carga 677 1.777117e+10 32227.800 *\n",
              "        29) Estilo=conversivel,cupe,hatchback 4 portas,perua,seda,SUV 2 portas,SUV 4 portas,SUV Conversível,van de passageiros 2123 1.725240e+11 39087.890 *\n",
              "      15) Potencia_motor>=310.5 1167 1.424214e+11 49759.920  \n",
              "        30) Estilo=cupe,perua,picape cabine dupla,picape cabine estendida,picape cabine simples 565 5.071966e+10 44582.290 *\n",
              "        31) Estilo=conversivel,hatchback 4 portas,seda,SUV 4 portas 602 6.233971e+10 54619.330 *"
            ]
          },
          "metadata": {}
        }
      ]
    },
    {
      "cell_type": "code",
      "source": [
        "# Visualizando a árvore\n",
        "\n",
        "install.packages('rpart.plot')"
      ],
      "metadata": {
        "colab": {
          "base_uri": "https://localhost:8080/"
        },
        "id": "FA2HlYaxQMbm",
        "outputId": "3dc84f62-e295-41ea-f398-370555b043d8"
      },
      "execution_count": 11,
      "outputs": [
        {
          "output_type": "stream",
          "name": "stderr",
          "text": [
            "Installing package into ‘/usr/local/lib/R/site-library’\n",
            "(as ‘lib’ is unspecified)\n",
            "\n"
          ]
        }
      ]
    },
    {
      "cell_type": "code",
      "source": [
        "library(rpart.plot)"
      ],
      "metadata": {
        "colab": {
          "base_uri": "https://localhost:8080/"
        },
        "id": "0bMm8eR5QSxg",
        "outputId": "6fa339b2-3802-4e11-87e5-a8277e47fd6c"
      },
      "execution_count": 12,
      "outputs": [
        {
          "output_type": "stream",
          "name": "stderr",
          "text": [
            "Loading required package: rpart\n",
            "\n",
            "\n",
            "Attaching package: ‘rpart’\n",
            "\n",
            "\n",
            "The following object is masked from ‘package:dials’:\n",
            "\n",
            "    prune\n",
            "\n",
            "\n"
          ]
        }
      ]
    },
    {
      "cell_type": "code",
      "source": [
        "# Plota a árvore completa\n",
        "arvore_plot <- rpart.plot(modelo_arvore_decisao$fit, roundint = FALSE, cex = 0.8)"
      ],
      "metadata": {
        "colab": {
          "base_uri": "https://localhost:8080/",
          "height": 437
        },
        "id": "eEKCO2XKQXbB",
        "outputId": "c75236ae-a830-4f26-a637-2fe2d981b653"
      },
      "execution_count": 13,
      "outputs": [
        {
          "output_type": "display_data",
          "data": {
            "text/plain": [
              "plot without title"
            ],
            "image/png": "[encoded data removed]"
          },
          "metadata": {
            "image/png": {
              "width": 420,
              "height": 420
            }
          }
        }
      ]
    },
    {
      "cell_type": "code",
      "source": [
        "# Árvore com profundidade máxima = 3 (mais simples, evita overfitting)\n",
        "arvore_3 <- decision_tree(tree_depth = 3) %>%\n",
        "  set_engine('rpart') %>%\n",
        "  set_mode('regression')"
      ],
      "metadata": {
        "id": "mR-QVlomQmpZ"
      },
      "execution_count": 14,
      "outputs": []
    },
    {
      "cell_type": "code",
      "source": [
        "set.seed(4556)\n",
        "\n",
        "modelo_arvore_decisao_3 <- arvore %>%\n",
        "  fit(Valor ~ Estilo + Ano + Potencia_motor, data = df_treino)"
      ],
      "metadata": {
        "id": "8Sb5_DDLQ0Jw"
      },
      "execution_count": 15,
      "outputs": []
    },
    {
      "cell_type": "code",
      "source": [
        "arvore_3_plot <- rpart.plot(modelo_arvore_decisao_3$fit, roundint = FALSE, cex = 0.8)"
      ],
      "metadata": {
        "colab": {
          "base_uri": "https://localhost:8080/",
          "height": 437
        },
        "id": "8jsgXhBzREAx",
        "outputId": "716dbcc6-d42d-4e45-8c31-e9745bbff935"
      },
      "execution_count": 16,
      "outputs": [
        {
          "output_type": "display_data",
          "data": {
            "text/plain": [
              "plot without title"
            ],
            "image/png": "[encoded data removed]"
          },
          "metadata": {
            "image/png": {
              "width": 420,
              "height": 420
            }
          }
        }
      ]
    },
    {
      "cell_type": "code",
      "source": [
        "# Avaliando a performance do modelo\n",
        "\n",
        "# Fazendo previsões no conjunto de teste\n",
        "predicoes <- predict(modelo_arvore_decisao, new_data = df_teste)"
      ],
      "metadata": {
        "id": "tvvEsoJ8RR_w"
      },
      "execution_count": 17,
      "outputs": []
    },
    {
      "cell_type": "code",
      "source": [
        "predicoes"
      ],
      "metadata": {
        "colab": {
          "base_uri": "https://localhost:8080/",
          "height": 1000
        },
        "id": "iTNsZ9W2RYrK",
        "outputId": "a6af6018-9d46-4b97-ec94-aa0570a30228"
      },
      "execution_count": 18,
      "outputs": [
        {
          "output_type": "display_data",
          "data": {
            "text/html": [
              "<table class=\"dataframe\">\n",
              "<caption>A tibble: 2164 × 1</caption>\n",
              "<thead>\n",
              "\t<tr><th scope=col>.pred</th></tr>\n",
              "\t<tr><th scope=col>&lt;dbl&gt;</th></tr>\n",
              "</thead>\n",
              "<tbody>\n",
              "\t<tr><td>19965.935</td></tr>\n",
              "\t<tr><td>39087.894</td></tr>\n",
              "\t<tr><td>27234.996</td></tr>\n",
              "\t<tr><td> 2526.276</td></tr>\n",
              "\t<tr><td>27234.996</td></tr>\n",
              "\t<tr><td>39087.894</td></tr>\n",
              "\t<tr><td>27234.996</td></tr>\n",
              "\t<tr><td>19965.935</td></tr>\n",
              "\t<tr><td>27234.996</td></tr>\n",
              "\t<tr><td>19965.935</td></tr>\n",
              "\t<tr><td>27234.996</td></tr>\n",
              "\t<tr><td>27234.996</td></tr>\n",
              "\t<tr><td>39087.894</td></tr>\n",
              "\t<tr><td>27234.996</td></tr>\n",
              "\t<tr><td>39087.894</td></tr>\n",
              "\t<tr><td>27234.996</td></tr>\n",
              "\t<tr><td>27234.996</td></tr>\n",
              "\t<tr><td>44582.288</td></tr>\n",
              "\t<tr><td>19965.935</td></tr>\n",
              "\t<tr><td>27234.996</td></tr>\n",
              "\t<tr><td> 2526.276</td></tr>\n",
              "\t<tr><td>39087.894</td></tr>\n",
              "\t<tr><td>44582.288</td></tr>\n",
              "\t<tr><td>39087.894</td></tr>\n",
              "\t<tr><td>27234.996</td></tr>\n",
              "\t<tr><td>39087.894</td></tr>\n",
              "\t<tr><td>19965.935</td></tr>\n",
              "\t<tr><td>19965.935</td></tr>\n",
              "\t<tr><td>39087.894</td></tr>\n",
              "\t<tr><td>39087.894</td></tr>\n",
              "\t<tr><td>⋮</td></tr>\n",
              "\t<tr><td>54619.331</td></tr>\n",
              "\t<tr><td> 2526.276</td></tr>\n",
              "\t<tr><td>19965.935</td></tr>\n",
              "\t<tr><td>27234.996</td></tr>\n",
              "\t<tr><td>27234.996</td></tr>\n",
              "\t<tr><td>39087.894</td></tr>\n",
              "\t<tr><td>32227.801</td></tr>\n",
              "\t<tr><td>44582.288</td></tr>\n",
              "\t<tr><td>44582.288</td></tr>\n",
              "\t<tr><td>39087.894</td></tr>\n",
              "\t<tr><td>44582.288</td></tr>\n",
              "\t<tr><td>39087.894</td></tr>\n",
              "\t<tr><td>27234.996</td></tr>\n",
              "\t<tr><td>32227.801</td></tr>\n",
              "\t<tr><td>39087.894</td></tr>\n",
              "\t<tr><td> 2526.276</td></tr>\n",
              "\t<tr><td>27234.996</td></tr>\n",
              "\t<tr><td>27234.996</td></tr>\n",
              "\t<tr><td>27234.996</td></tr>\n",
              "\t<tr><td>44582.288</td></tr>\n",
              "\t<tr><td> 2526.276</td></tr>\n",
              "\t<tr><td>39087.894</td></tr>\n",
              "\t<tr><td>19965.935</td></tr>\n",
              "\t<tr><td> 2526.276</td></tr>\n",
              "\t<tr><td>32227.801</td></tr>\n",
              "\t<tr><td> 2526.276</td></tr>\n",
              "\t<tr><td>39087.894</td></tr>\n",
              "\t<tr><td>27234.996</td></tr>\n",
              "\t<tr><td> 2526.276</td></tr>\n",
              "\t<tr><td>27234.996</td></tr>\n",
              "</tbody>\n",
              "</table>\n"
            ],
            "text/markdown": "\nA tibble: 2164 × 1\n\n| .pred &lt;dbl&gt; |\n|---|\n| 19965.935 |\n| 39087.894 |\n| 27234.996 |\n|  2526.276 |\n| 27234.996 |\n| 39087.894 |\n| 27234.996 |\n| 19965.935 |\n| 27234.996 |\n| 19965.935 |\n| 27234.996 |\n| 27234.996 |\n| 39087.894 |\n| 27234.996 |\n| 39087.894 |\n| 27234.996 |\n| 27234.996 |\n| 44582.288 |\n| 19965.935 |\n| 27234.996 |\n|  2526.276 |\n| 39087.894 |\n| 44582.288 |\n| 39087.894 |\n| 27234.996 |\n| 39087.894 |\n| 19965.935 |\n| 19965.935 |\n| 39087.894 |\n| 39087.894 |\n| ⋮ |\n| 54619.331 |\n|  2526.276 |\n| 19965.935 |\n| 27234.996 |\n| 27234.996 |\n| 39087.894 |\n| 32227.801 |\n| 44582.288 |\n| 44582.288 |\n| 39087.894 |\n| 44582.288 |\n| 39087.894 |\n| 27234.996 |\n| 32227.801 |\n| 39087.894 |\n|  2526.276 |\n| 27234.996 |\n| 27234.996 |\n| 27234.996 |\n| 44582.288 |\n|  2526.276 |\n| 39087.894 |\n| 19965.935 |\n|  2526.276 |\n| 32227.801 |\n|  2526.276 |\n| 39087.894 |\n| 27234.996 |\n|  2526.276 |\n| 27234.996 |\n\n",
            "text/latex": "A tibble: 2164 × 1\n\\begin{tabular}{l}\n .pred\\\\\n <dbl>\\\\\n\\hline\n\t 19965.935\\\\\n\t 39087.894\\\\\n\t 27234.996\\\\\n\t  2526.276\\\\\n\t 27234.996\\\\\n\t 39087.894\\\\\n\t 27234.996\\\\\n\t 19965.935\\\\\n\t 27234.996\\\\\n\t 19965.935\\\\\n\t 27234.996\\\\\n\t 27234.996\\\\\n\t 39087.894\\\\\n\t 27234.996\\\\\n\t 39087.894\\\\\n\t 27234.996\\\\\n\t 27234.996\\\\\n\t 44582.288\\\\\n\t 19965.935\\\\\n\t 27234.996\\\\\n\t  2526.276\\\\\n\t 39087.894\\\\\n\t 44582.288\\\\\n\t 39087.894\\\\\n\t 27234.996\\\\\n\t 39087.894\\\\\n\t 19965.935\\\\\n\t 19965.935\\\\\n\t 39087.894\\\\\n\t 39087.894\\\\\n\t ⋮\\\\\n\t 54619.331\\\\\n\t  2526.276\\\\\n\t 19965.935\\\\\n\t 27234.996\\\\\n\t 27234.996\\\\\n\t 39087.894\\\\\n\t 32227.801\\\\\n\t 44582.288\\\\\n\t 44582.288\\\\\n\t 39087.894\\\\\n\t 44582.288\\\\\n\t 39087.894\\\\\n\t 27234.996\\\\\n\t 32227.801\\\\\n\t 39087.894\\\\\n\t  2526.276\\\\\n\t 27234.996\\\\\n\t 27234.996\\\\\n\t 27234.996\\\\\n\t 44582.288\\\\\n\t  2526.276\\\\\n\t 39087.894\\\\\n\t 19965.935\\\\\n\t  2526.276\\\\\n\t 32227.801\\\\\n\t  2526.276\\\\\n\t 39087.894\\\\\n\t 27234.996\\\\\n\t  2526.276\\\\\n\t 27234.996\\\\\n\\end{tabular}\n",
            "text/plain": [
              "     .pred    \n",
              "1    19965.935\n",
              "2    39087.894\n",
              "3    27234.996\n",
              "4     2526.276\n",
              "5    27234.996\n",
              "6    39087.894\n",
              "7    27234.996\n",
              "8    19965.935\n",
              "9    27234.996\n",
              "10   19965.935\n",
              "11   27234.996\n",
              "12   27234.996\n",
              "13   39087.894\n",
              "14   27234.996\n",
              "15   39087.894\n",
              "16   27234.996\n",
              "17   27234.996\n",
              "18   44582.288\n",
              "19   19965.935\n",
              "20   27234.996\n",
              "21    2526.276\n",
              "22   39087.894\n",
              "23   44582.288\n",
              "24   39087.894\n",
              "25   27234.996\n",
              "26   39087.894\n",
              "27   19965.935\n",
              "28   19965.935\n",
              "29   39087.894\n",
              "30   39087.894\n",
              "⋮    ⋮        \n",
              "2135 54619.331\n",
              "2136  2526.276\n",
              "2137 19965.935\n",
              "2138 27234.996\n",
              "2139 27234.996\n",
              "2140 39087.894\n",
              "2141 32227.801\n",
              "2142 44582.288\n",
              "2143 44582.288\n",
              "2144 39087.894\n",
              "2145 44582.288\n",
              "2146 39087.894\n",
              "2147 27234.996\n",
              "2148 32227.801\n",
              "2149 39087.894\n",
              "2150  2526.276\n",
              "2151 27234.996\n",
              "2152 27234.996\n",
              "2153 27234.996\n",
              "2154 44582.288\n",
              "2155  2526.276\n",
              "2156 39087.894\n",
              "2157 19965.935\n",
              "2158  2526.276\n",
              "2159 32227.801\n",
              "2160  2526.276\n",
              "2161 39087.894\n",
              "2162 27234.996\n",
              "2163  2526.276\n",
              "2164 27234.996"
            ]
          },
          "metadata": {}
        }
      ]
    },
    {
      "cell_type": "code",
      "source": [
        "# Juntando as previsões com os valores reais\n",
        "predicoes_arvore <- bind_cols(df_teste, predicoes)"
      ],
      "metadata": {
        "id": "OZNuacMLRcHx"
      },
      "execution_count": 20,
      "outputs": []
    },
    {
      "cell_type": "code",
      "source": [
        "predicoes_arvore"
      ],
      "metadata": {
        "colab": {
          "base_uri": "https://localhost:8080/",
          "height": 1000
        },
        "id": "rLJEtZdsRk7y",
        "outputId": "6591ba4a-ba57-4a5a-ad02-cdc08f2978c7"
      },
      "execution_count": 21,
      "outputs": [
        {
          "output_type": "display_data",
          "data": {
            "text/html": [
              "<table class=\"dataframe\">\n",
              "<caption>A data.frame: 2164 × 7</caption>\n",
              "<thead>\n",
              "\t<tr><th scope=col>Estilo</th><th scope=col>Ano</th><th scope=col>Potencia_motor</th><th scope=col>Cilindros_motor</th><th scope=col>Consumo_estrada_km</th><th scope=col>Valor</th><th scope=col>.pred</th></tr>\n",
              "\t<tr><th scope=col>&lt;chr&gt;</th><th scope=col>&lt;int&gt;</th><th scope=col>&lt;dbl&gt;</th><th scope=col>&lt;dbl&gt;</th><th scope=col>&lt;dbl&gt;</th><th scope=col>&lt;int&gt;</th><th scope=col>&lt;dbl&gt;</th></tr>\n",
              "</thead>\n",
              "<tbody>\n",
              "\t<tr><td>hatchback 2 portas     </td><td>2015</td><td>106</td><td>4</td><td>59.54558</td><td>14845</td><td>19965.935</td></tr>\n",
              "\t<tr><td>seda                   </td><td>2008</td><td>264</td><td>6</td><td>38.62416</td><td>25495</td><td>39087.894</td></tr>\n",
              "\t<tr><td>hatchback 2 portas     </td><td>2005</td><td>210</td><td>4</td><td>45.06152</td><td>23670</td><td>27234.996</td></tr>\n",
              "\t<tr><td>perua                  </td><td>1991</td><td>162</td><td>4</td><td>32.18680</td><td> 2000</td><td> 2526.276</td></tr>\n",
              "\t<tr><td>SUV 4 portas           </td><td>2017</td><td>168</td><td>4</td><td>46.67086</td><td>23600</td><td>27234.996</td></tr>\n",
              "\t<tr><td>SUV 4 portas           </td><td>2017</td><td>284</td><td>6</td><td>43.45218</td><td>36100</td><td>39087.894</td></tr>\n",
              "\t<tr><td>SUV 2 portas           </td><td>2001</td><td>203</td><td>6</td><td>32.18680</td><td>21035</td><td>27234.996</td></tr>\n",
              "\t<tr><td>hatchback 4 portas     </td><td>2016</td><td>138</td><td>4</td><td>59.54558</td><td>17905</td><td>19965.935</td></tr>\n",
              "\t<tr><td>hatchback 2 portas     </td><td>2013</td><td>200</td><td>4</td><td>53.10822</td><td>31495</td><td>27234.996</td></tr>\n",
              "\t<tr><td>hatchback 4 portas     </td><td>2017</td><td>164</td><td>4</td><td>54.71756</td><td>21990</td><td>19965.935</td></tr>\n",
              "\t<tr><td>minivan de passageiros </td><td>2005</td><td>200</td><td>6</td><td>37.01482</td><td>28110</td><td>27234.996</td></tr>\n",
              "\t<tr><td>seda                   </td><td>2016</td><td>184</td><td>4</td><td>57.93624</td><td>21995</td><td>27234.996</td></tr>\n",
              "\t<tr><td>SUV 4 portas           </td><td>2017</td><td>240</td><td>4</td><td>48.28020</td><td>40950</td><td>39087.894</td></tr>\n",
              "\t<tr><td>hatchback 4 portas     </td><td>2016</td><td>188</td><td>4</td><td>49.88954</td><td>26940</td><td>27234.996</td></tr>\n",
              "\t<tr><td>seda                   </td><td>2016</td><td>304</td><td>6</td><td>45.06152</td><td>31065</td><td>39087.894</td></tr>\n",
              "\t<tr><td>seda                   </td><td>2016</td><td>178</td><td>4</td><td>56.32690</td><td>23070</td><td>27234.996</td></tr>\n",
              "\t<tr><td>seda                   </td><td>2016</td><td>195</td><td>4</td><td>49.88954</td><td>27095</td><td>27234.996</td></tr>\n",
              "\t<tr><td>picape cabine estendida</td><td>2017</td><td>385</td><td>8</td><td>33.79614</td><td>35870</td><td>44582.288</td></tr>\n",
              "\t<tr><td>picape cabine simples  </td><td>2003</td><td>135</td><td>4</td><td>41.84284</td><td>13930</td><td>19965.935</td></tr>\n",
              "\t<tr><td>SUV 4 portas           </td><td>2016</td><td>176</td><td>4</td><td>49.88954</td><td>24350</td><td>27234.996</td></tr>\n",
              "\t<tr><td>seda                   </td><td>1995</td><td>225</td><td>6</td><td>41.84284</td><td> 2000</td><td> 2526.276</td></tr>\n",
              "\t<tr><td>seda                   </td><td>2015</td><td>272</td><td>4</td><td>45.06152</td><td>57670</td><td>39087.894</td></tr>\n",
              "\t<tr><td>cupe                   </td><td>2009</td><td>330</td><td>6</td><td>41.84284</td><td>35900</td><td>44582.288</td></tr>\n",
              "\t<tr><td>SUV 4 portas           </td><td>2013</td><td>265</td><td>6</td><td>37.01482</td><td>42650</td><td>39087.894</td></tr>\n",
              "\t<tr><td>seda                   </td><td>2017</td><td>200</td><td>4</td><td>49.88954</td><td>37820</td><td>27234.996</td></tr>\n",
              "\t<tr><td>SUV 4 portas           </td><td>2017</td><td>250</td><td>4</td><td>41.84284</td><td>45750</td><td>39087.894</td></tr>\n",
              "\t<tr><td>SUV 4 portas           </td><td>2011</td><td>166</td><td>4</td><td>40.23350</td><td>23449</td><td>19965.935</td></tr>\n",
              "\t<tr><td>hatchback 4 portas     </td><td>2012</td><td>158</td><td>4</td><td>41.84284</td><td>21715</td><td>19965.935</td></tr>\n",
              "\t<tr><td>SUV 2 portas           </td><td>2016</td><td>240</td><td>4</td><td>48.28020</td><td>46675</td><td>39087.894</td></tr>\n",
              "\t<tr><td>seda                   </td><td>2004</td><td>225</td><td>4</td><td>45.06152</td><td>20450</td><td>39087.894</td></tr>\n",
              "\t<tr><td>⋮</td><td>⋮</td><td>⋮</td><td>⋮</td><td>⋮</td><td>⋮</td><td>⋮</td></tr>\n",
              "\t<tr><td>SUV 4 portas          </td><td>2016</td><td>420</td><td>8</td><td>35.40548</td><td>68025</td><td>54619.331</td></tr>\n",
              "\t<tr><td>picape cabine simples </td><td>1999</td><td>220</td><td>8</td><td>27.35878</td><td> 2922</td><td> 2526.276</td></tr>\n",
              "\t<tr><td>picape cabine simples </td><td>2002</td><td>120</td><td>4</td><td>40.23350</td><td>13961</td><td>19965.935</td></tr>\n",
              "\t<tr><td>minivan de passageiros</td><td>2004</td><td>190</td><td>6</td><td>25.74944</td><td>26195</td><td>27234.996</td></tr>\n",
              "\t<tr><td>seda                  </td><td>2005</td><td>215</td><td>6</td><td>37.01482</td><td>31105</td><td>27234.996</td></tr>\n",
              "\t<tr><td>seda                  </td><td>2006</td><td>298</td><td>6</td><td>38.62416</td><td>31200</td><td>39087.894</td></tr>\n",
              "\t<tr><td>picape cabine dupla   </td><td>2008</td><td>310</td><td>8</td><td>27.35878</td><td>32155</td><td>32227.801</td></tr>\n",
              "\t<tr><td>picape cabine simples </td><td>2015</td><td>381</td><td>8</td><td>27.35878</td><td>32170</td><td>44582.288</td></tr>\n",
              "\t<tr><td>cupe                  </td><td>2015</td><td>375</td><td>8</td><td>37.01482</td><td>34995</td><td>44582.288</td></tr>\n",
              "\t<tr><td>seda                  </td><td>2012</td><td>280</td><td>6</td><td>46.67086</td><td>35705</td><td>39087.894</td></tr>\n",
              "\t<tr><td>cupe                  </td><td>2016</td><td>348</td><td>6</td><td>38.62416</td><td>33750</td><td>44582.288</td></tr>\n",
              "\t<tr><td>seda                  </td><td>2015</td><td>241</td><td>4</td><td>54.71756</td><td>38400</td><td>39087.894</td></tr>\n",
              "\t<tr><td>seda                  </td><td>2015</td><td>168</td><td>4</td><td>49.88954</td><td>20595</td><td>27234.996</td></tr>\n",
              "\t<tr><td>picape cabine dupla   </td><td>2007</td><td>295</td><td>8</td><td>30.57746</td><td>32690</td><td>32227.801</td></tr>\n",
              "\t<tr><td>seda                  </td><td>2015</td><td>220</td><td>4</td><td>53.10822</td><td>33200</td><td>39087.894</td></tr>\n",
              "\t<tr><td>perua                 </td><td>1995</td><td>162</td><td>4</td><td>38.62416</td><td> 2000</td><td> 2526.276</td></tr>\n",
              "\t<tr><td>hatchback 4 portas    </td><td>2013</td><td>200</td><td>4</td><td>49.88954</td><td>28795</td><td>27234.996</td></tr>\n",
              "\t<tr><td>hatchback 4 portas    </td><td>2017</td><td>173</td><td>4</td><td>51.49888</td><td>19800</td><td>27234.996</td></tr>\n",
              "\t<tr><td>SUV 4 portas          </td><td>2009</td><td>171</td><td>4</td><td>40.23350</td><td>24690</td><td>27234.996</td></tr>\n",
              "\t<tr><td>picape cabine dupla   </td><td>2012</td><td>320</td><td>8</td><td>33.79614</td><td>50305</td><td>44582.288</td></tr>\n",
              "\t<tr><td>seda                  </td><td>1995</td><td>168</td><td>5</td><td>41.84284</td><td> 2000</td><td> 2526.276</td></tr>\n",
              "\t<tr><td>SUV 4 portas          </td><td>2016</td><td>281</td><td>6</td><td>35.40548</td><td>34005</td><td>39087.894</td></tr>\n",
              "\t<tr><td>seda                  </td><td>2005</td><td>140</td><td>4</td><td>49.88954</td><td>20090</td><td>19965.935</td></tr>\n",
              "\t<tr><td>picape cabine simples </td><td>1997</td><td>200</td><td>6</td><td>28.96812</td><td> 2992</td><td> 2526.276</td></tr>\n",
              "\t<tr><td>minivan de passageiros</td><td>2007</td><td>240</td><td>6</td><td>37.01482</td><td>23280</td><td>32227.801</td></tr>\n",
              "\t<tr><td>seda                  </td><td>1990</td><td>165</td><td>6</td><td>40.23350</td><td> 2000</td><td> 2526.276</td></tr>\n",
              "\t<tr><td>seda                  </td><td>2003</td><td>300</td><td>8</td><td>40.23350</td><td>49150</td><td>39087.894</td></tr>\n",
              "\t<tr><td>hatchback 2 portas    </td><td>2015</td><td>210</td><td>4</td><td>49.88954</td><td>25450</td><td>27234.996</td></tr>\n",
              "\t<tr><td>cupe                  </td><td>1995</td><td>222</td><td>6</td><td>37.01482</td><td> 2575</td><td> 2526.276</td></tr>\n",
              "\t<tr><td>cupe                  </td><td>2017</td><td>208</td><td>4</td><td>48.28020</td><td>41300</td><td>27234.996</td></tr>\n",
              "</tbody>\n",
              "</table>\n"
            ],
            "text/markdown": "\nA data.frame: 2164 × 7\n\n| Estilo &lt;chr&gt; | Ano &lt;int&gt; | Potencia_motor &lt;dbl&gt; | Cilindros_motor &lt;dbl&gt; | Consumo_estrada_km &lt;dbl&gt; | Valor &lt;int&gt; | .pred &lt;dbl&gt; |\n|---|---|---|---|---|---|---|\n| hatchback 2 portas      | 2015 | 106 | 4 | 59.54558 | 14845 | 19965.935 |\n| seda                    | 2008 | 264 | 6 | 38.62416 | 25495 | 39087.894 |\n| hatchback 2 portas      | 2005 | 210 | 4 | 45.06152 | 23670 | 27234.996 |\n| perua                   | 1991 | 162 | 4 | 32.18680 |  2000 |  2526.276 |\n| SUV 4 portas            | 2017 | 168 | 4 | 46.67086 | 23600 | 27234.996 |\n| SUV 4 portas            | 2017 | 284 | 6 | 43.45218 | 36100 | 39087.894 |\n| SUV 2 portas            | 2001 | 203 | 6 | 32.18680 | 21035 | 27234.996 |\n| hatchback 4 portas      | 2016 | 138 | 4 | 59.54558 | 17905 | 19965.935 |\n| hatchback 2 portas      | 2013 | 200 | 4 | 53.10822 | 31495 | 27234.996 |\n| hatchback 4 portas      | 2017 | 164 | 4 | 54.71756 | 21990 | 19965.935 |\n| minivan de passageiros  | 2005 | 200 | 6 | 37.01482 | 28110 | 27234.996 |\n| seda                    | 2016 | 184 | 4 | 57.93624 | 21995 | 27234.996 |\n| SUV 4 portas            | 2017 | 240 | 4 | 48.28020 | 40950 | 39087.894 |\n| hatchback 4 portas      | 2016 | 188 | 4 | 49.88954 | 26940 | 27234.996 |\n| seda                    | 2016 | 304 | 6 | 45.06152 | 31065 | 39087.894 |\n| seda                    | 2016 | 178 | 4 | 56.32690 | 23070 | 27234.996 |\n| seda                    | 2016 | 195 | 4 | 49.88954 | 27095 | 27234.996 |\n| picape cabine estendida | 2017 | 385 | 8 | 33.79614 | 35870 | 44582.288 |\n| picape cabine simples   | 2003 | 135 | 4 | 41.84284 | 13930 | 19965.935 |\n| SUV 4 portas            | 2016 | 176 | 4 | 49.88954 | 24350 | 27234.996 |\n| seda                    | 1995 | 225 | 6 | 41.84284 |  2000 |  2526.276 |\n| seda                    | 2015 | 272 | 4 | 45.06152 | 57670 | 39087.894 |\n| cupe                    | 2009 | 330 | 6 | 41.84284 | 35900 | 44582.288 |\n| SUV 4 portas            | 2013 | 265 | 6 | 37.01482 | 42650 | 39087.894 |\n| seda                    | 2017 | 200 | 4 | 49.88954 | 37820 | 27234.996 |\n| SUV 4 portas            | 2017 | 250 | 4 | 41.84284 | 45750 | 39087.894 |\n| SUV 4 portas            | 2011 | 166 | 4 | 40.23350 | 23449 | 19965.935 |\n| hatchback 4 portas      | 2012 | 158 | 4 | 41.84284 | 21715 | 19965.935 |\n| SUV 2 portas            | 2016 | 240 | 4 | 48.28020 | 46675 | 39087.894 |\n| seda                    | 2004 | 225 | 4 | 45.06152 | 20450 | 39087.894 |\n| ⋮ | ⋮ | ⋮ | ⋮ | ⋮ | ⋮ | ⋮ |\n| SUV 4 portas           | 2016 | 420 | 8 | 35.40548 | 68025 | 54619.331 |\n| picape cabine simples  | 1999 | 220 | 8 | 27.35878 |  2922 |  2526.276 |\n| picape cabine simples  | 2002 | 120 | 4 | 40.23350 | 13961 | 19965.935 |\n| minivan de passageiros | 2004 | 190 | 6 | 25.74944 | 26195 | 27234.996 |\n| seda                   | 2005 | 215 | 6 | 37.01482 | 31105 | 27234.996 |\n| seda                   | 2006 | 298 | 6 | 38.62416 | 31200 | 39087.894 |\n| picape cabine dupla    | 2008 | 310 | 8 | 27.35878 | 32155 | 32227.801 |\n| picape cabine simples  | 2015 | 381 | 8 | 27.35878 | 32170 | 44582.288 |\n| cupe                   | 2015 | 375 | 8 | 37.01482 | 34995 | 44582.288 |\n| seda                   | 2012 | 280 | 6 | 46.67086 | 35705 | 39087.894 |\n| cupe                   | 2016 | 348 | 6 | 38.62416 | 33750 | 44582.288 |\n| seda                   | 2015 | 241 | 4 | 54.71756 | 38400 | 39087.894 |\n| seda                   | 2015 | 168 | 4 | 49.88954 | 20595 | 27234.996 |\n| picape cabine dupla    | 2007 | 295 | 8 | 30.57746 | 32690 | 32227.801 |\n| seda                   | 2015 | 220 | 4 | 53.10822 | 33200 | 39087.894 |\n| perua                  | 1995 | 162 | 4 | 38.62416 |  2000 |  2526.276 |\n| hatchback 4 portas     | 2013 | 200 | 4 | 49.88954 | 28795 | 27234.996 |\n| hatchback 4 portas     | 2017 | 173 | 4 | 51.49888 | 19800 | 27234.996 |\n| SUV 4 portas           | 2009 | 171 | 4 | 40.23350 | 24690 | 27234.996 |\n| picape cabine dupla    | 2012 | 320 | 8 | 33.79614 | 50305 | 44582.288 |\n| seda                   | 1995 | 168 | 5 | 41.84284 |  2000 |  2526.276 |\n| SUV 4 portas           | 2016 | 281 | 6 | 35.40548 | 34005 | 39087.894 |\n| seda                   | 2005 | 140 | 4 | 49.88954 | 20090 | 19965.935 |\n| picape cabine simples  | 1997 | 200 | 6 | 28.96812 |  2992 |  2526.276 |\n| minivan de passageiros | 2007 | 240 | 6 | 37.01482 | 23280 | 32227.801 |\n| seda                   | 1990 | 165 | 6 | 40.23350 |  2000 |  2526.276 |\n| seda                   | 2003 | 300 | 8 | 40.23350 | 49150 | 39087.894 |\n| hatchback 2 portas     | 2015 | 210 | 4 | 49.88954 | 25450 | 27234.996 |\n| cupe                   | 1995 | 222 | 6 | 37.01482 |  2575 |  2526.276 |\n| cupe                   | 2017 | 208 | 4 | 48.28020 | 41300 | 27234.996 |\n\n",
            "text/latex": "A data.frame: 2164 × 7\n\\begin{tabular}{lllllll}\n Estilo & Ano & Potencia\\_motor & Cilindros\\_motor & Consumo\\_estrada\\_km & Valor & .pred\\\\\n <chr> & <int> & <dbl> & <dbl> & <dbl> & <int> & <dbl>\\\\\n\\hline\n\t hatchback 2 portas      & 2015 & 106 & 4 & 59.54558 & 14845 & 19965.935\\\\\n\t seda                    & 2008 & 264 & 6 & 38.62416 & 25495 & 39087.894\\\\\n\t hatchback 2 portas      & 2005 & 210 & 4 & 45.06152 & 23670 & 27234.996\\\\\n\t perua                   & 1991 & 162 & 4 & 32.18680 &  2000 &  2526.276\\\\\n\t SUV 4 portas            & 2017 & 168 & 4 & 46.67086 & 23600 & 27234.996\\\\\n\t SUV 4 portas            & 2017 & 284 & 6 & 43.45218 & 36100 & 39087.894\\\\\n\t SUV 2 portas            & 2001 & 203 & 6 & 32.18680 & 21035 & 27234.996\\\\\n\t hatchback 4 portas      & 2016 & 138 & 4 & 59.54558 & 17905 & 19965.935\\\\\n\t hatchback 2 portas      & 2013 & 200 & 4 & 53.10822 & 31495 & 27234.996\\\\\n\t hatchback 4 portas      & 2017 & 164 & 4 & 54.71756 & 21990 & 19965.935\\\\\n\t minivan de passageiros  & 2005 & 200 & 6 & 37.01482 & 28110 & 27234.996\\\\\n\t seda                    & 2016 & 184 & 4 & 57.93624 & 21995 & 27234.996\\\\\n\t SUV 4 portas            & 2017 & 240 & 4 & 48.28020 & 40950 & 39087.894\\\\\n\t hatchback 4 portas      & 2016 & 188 & 4 & 49.88954 & 26940 & 27234.996\\\\\n\t seda                    & 2016 & 304 & 6 & 45.06152 & 31065 & 39087.894\\\\\n\t seda                    & 2016 & 178 & 4 & 56.32690 & 23070 & 27234.996\\\\\n\t seda                    & 2016 & 195 & 4 & 49.88954 & 27095 & 27234.996\\\\\n\t picape cabine estendida & 2017 & 385 & 8 & 33.79614 & 35870 & 44582.288\\\\\n\t picape cabine simples   & 2003 & 135 & 4 & 41.84284 & 13930 & 19965.935\\\\\n\t SUV 4 portas            & 2016 & 176 & 4 & 49.88954 & 24350 & 27234.996\\\\\n\t seda                    & 1995 & 225 & 6 & 41.84284 &  2000 &  2526.276\\\\\n\t seda                    & 2015 & 272 & 4 & 45.06152 & 57670 & 39087.894\\\\\n\t cupe                    & 2009 & 330 & 6 & 41.84284 & 35900 & 44582.288\\\\\n\t SUV 4 portas            & 2013 & 265 & 6 & 37.01482 & 42650 & 39087.894\\\\\n\t seda                    & 2017 & 200 & 4 & 49.88954 & 37820 & 27234.996\\\\\n\t SUV 4 portas            & 2017 & 250 & 4 & 41.84284 & 45750 & 39087.894\\\\\n\t SUV 4 portas            & 2011 & 166 & 4 & 40.23350 & 23449 & 19965.935\\\\\n\t hatchback 4 portas      & 2012 & 158 & 4 & 41.84284 & 21715 & 19965.935\\\\\n\t SUV 2 portas            & 2016 & 240 & 4 & 48.28020 & 46675 & 39087.894\\\\\n\t seda                    & 2004 & 225 & 4 & 45.06152 & 20450 & 39087.894\\\\\n\t ⋮ & ⋮ & ⋮ & ⋮ & ⋮ & ⋮ & ⋮\\\\\n\t SUV 4 portas           & 2016 & 420 & 8 & 35.40548 & 68025 & 54619.331\\\\\n\t picape cabine simples  & 1999 & 220 & 8 & 27.35878 &  2922 &  2526.276\\\\\n\t picape cabine simples  & 2002 & 120 & 4 & 40.23350 & 13961 & 19965.935\\\\\n\t minivan de passageiros & 2004 & 190 & 6 & 25.74944 & 26195 & 27234.996\\\\\n\t seda                   & 2005 & 215 & 6 & 37.01482 & 31105 & 27234.996\\\\\n\t seda                   & 2006 & 298 & 6 & 38.62416 & 31200 & 39087.894\\\\\n\t picape cabine dupla    & 2008 & 310 & 8 & 27.35878 & 32155 & 32227.801\\\\\n\t picape cabine simples  & 2015 & 381 & 8 & 27.35878 & 32170 & 44582.288\\\\\n\t cupe                   & 2015 & 375 & 8 & 37.01482 & 34995 & 44582.288\\\\\n\t seda                   & 2012 & 280 & 6 & 46.67086 & 35705 & 39087.894\\\\\n\t cupe                   & 2016 & 348 & 6 & 38.62416 & 33750 & 44582.288\\\\\n\t seda                   & 2015 & 241 & 4 & 54.71756 & 38400 & 39087.894\\\\\n\t seda                   & 2015 & 168 & 4 & 49.88954 & 20595 & 27234.996\\\\\n\t picape cabine dupla    & 2007 & 295 & 8 & 30.57746 & 32690 & 32227.801\\\\\n\t seda                   & 2015 & 220 & 4 & 53.10822 & 33200 & 39087.894\\\\\n\t perua                  & 1995 & 162 & 4 & 38.62416 &  2000 &  2526.276\\\\\n\t hatchback 4 portas     & 2013 & 200 & 4 & 49.88954 & 28795 & 27234.996\\\\\n\t hatchback 4 portas     & 2017 & 173 & 4 & 51.49888 & 19800 & 27234.996\\\\\n\t SUV 4 portas           & 2009 & 171 & 4 & 40.23350 & 24690 & 27234.996\\\\\n\t picape cabine dupla    & 2012 & 320 & 8 & 33.79614 & 50305 & 44582.288\\\\\n\t seda                   & 1995 & 168 & 5 & 41.84284 &  2000 &  2526.276\\\\\n\t SUV 4 portas           & 2016 & 281 & 6 & 35.40548 & 34005 & 39087.894\\\\\n\t seda                   & 2005 & 140 & 4 & 49.88954 & 20090 & 19965.935\\\\\n\t picape cabine simples  & 1997 & 200 & 6 & 28.96812 &  2992 &  2526.276\\\\\n\t minivan de passageiros & 2007 & 240 & 6 & 37.01482 & 23280 & 32227.801\\\\\n\t seda                   & 1990 & 165 & 6 & 40.23350 &  2000 &  2526.276\\\\\n\t seda                   & 2003 & 300 & 8 & 40.23350 & 49150 & 39087.894\\\\\n\t hatchback 2 portas     & 2015 & 210 & 4 & 49.88954 & 25450 & 27234.996\\\\\n\t cupe                   & 1995 & 222 & 6 & 37.01482 &  2575 &  2526.276\\\\\n\t cupe                   & 2017 & 208 & 4 & 48.28020 & 41300 & 27234.996\\\\\n\\end{tabular}\n",
            "text/plain": [
              "     Estilo                  Ano  Potencia_motor Cilindros_motor\n",
              "1    hatchback 2 portas      2015 106            4              \n",
              "2    seda                    2008 264            6              \n",
              "3    hatchback 2 portas      2005 210            4              \n",
              "4    perua                   1991 162            4              \n",
              "5    SUV 4 portas            2017 168            4              \n",
              "6    SUV 4 portas            2017 284            6              \n",
              "7    SUV 2 portas            2001 203            6              \n",
              "8    hatchback 4 portas      2016 138            4              \n",
              "9    hatchback 2 portas      2013 200            4              \n",
              "10   hatchback 4 portas      2017 164            4              \n",
              "11   minivan de passageiros  2005 200            6              \n",
              "12   seda                    2016 184            4              \n",
              "13   SUV 4 portas            2017 240            4              \n",
              "14   hatchback 4 portas      2016 188            4              \n",
              "15   seda                    2016 304            6              \n",
              "16   seda                    2016 178            4              \n",
              "17   seda                    2016 195            4              \n",
              "18   picape cabine estendida 2017 385            8              \n",
              "19   picape cabine simples   2003 135            4              \n",
              "20   SUV 4 portas            2016 176            4              \n",
              "21   seda                    1995 225            6              \n",
              "22   seda                    2015 272            4              \n",
              "23   cupe                    2009 330            6              \n",
              "24   SUV 4 portas            2013 265            6              \n",
              "25   seda                    2017 200            4              \n",
              "26   SUV 4 portas            2017 250            4              \n",
              "27   SUV 4 portas            2011 166            4              \n",
              "28   hatchback 4 portas      2012 158            4              \n",
              "29   SUV 2 portas            2016 240            4              \n",
              "30   seda                    2004 225            4              \n",
              "⋮    ⋮                       ⋮    ⋮              ⋮              \n",
              "2135 SUV 4 portas            2016 420            8              \n",
              "2136 picape cabine simples   1999 220            8              \n",
              "2137 picape cabine simples   2002 120            4              \n",
              "2138 minivan de passageiros  2004 190            6              \n",
              "2139 seda                    2005 215            6              \n",
              "2140 seda                    2006 298            6              \n",
              "2141 picape cabine dupla     2008 310            8              \n",
              "2142 picape cabine simples   2015 381            8              \n",
              "2143 cupe                    2015 375            8              \n",
              "2144 seda                    2012 280            6              \n",
              "2145 cupe                    2016 348            6              \n",
              "2146 seda                    2015 241            4              \n",
              "2147 seda                    2015 168            4              \n",
              "2148 picape cabine dupla     2007 295            8              \n",
              "2149 seda                    2015 220            4              \n",
              "2150 perua                   1995 162            4              \n",
              "2151 hatchback 4 portas      2013 200            4              \n",
              "2152 hatchback 4 portas      2017 173            4              \n",
              "2153 SUV 4 portas            2009 171            4              \n",
              "2154 picape cabine dupla     2012 320            8              \n",
              "2155 seda                    1995 168            5              \n",
              "2156 SUV 4 portas            2016 281            6              \n",
              "2157 seda                    2005 140            4              \n",
              "2158 picape cabine simples   1997 200            6              \n",
              "2159 minivan de passageiros  2007 240            6              \n",
              "2160 seda                    1990 165            6              \n",
              "2161 seda                    2003 300            8              \n",
              "2162 hatchback 2 portas      2015 210            4              \n",
              "2163 cupe                    1995 222            6              \n",
              "2164 cupe                    2017 208            4              \n",
              "     Consumo_estrada_km Valor .pred    \n",
              "1    59.54558           14845 19965.935\n",
              "2    38.62416           25495 39087.894\n",
              "3    45.06152           23670 27234.996\n",
              "4    32.18680            2000  2526.276\n",
              "5    46.67086           23600 27234.996\n",
              "6    43.45218           36100 39087.894\n",
              "7    32.18680           21035 27234.996\n",
              "8    59.54558           17905 19965.935\n",
              "9    53.10822           31495 27234.996\n",
              "10   54.71756           21990 19965.935\n",
              "11   37.01482           28110 27234.996\n",
              "12   57.93624           21995 27234.996\n",
              "13   48.28020           40950 39087.894\n",
              "14   49.88954           26940 27234.996\n",
              "15   45.06152           31065 39087.894\n",
              "16   56.32690           23070 27234.996\n",
              "17   49.88954           27095 27234.996\n",
              "18   33.79614           35870 44582.288\n",
              "19   41.84284           13930 19965.935\n",
              "20   49.88954           24350 27234.996\n",
              "21   41.84284            2000  2526.276\n",
              "22   45.06152           57670 39087.894\n",
              "23   41.84284           35900 44582.288\n",
              "24   37.01482           42650 39087.894\n",
              "25   49.88954           37820 27234.996\n",
              "26   41.84284           45750 39087.894\n",
              "27   40.23350           23449 19965.935\n",
              "28   41.84284           21715 19965.935\n",
              "29   48.28020           46675 39087.894\n",
              "30   45.06152           20450 39087.894\n",
              "⋮    ⋮                  ⋮     ⋮        \n",
              "2135 35.40548           68025 54619.331\n",
              "2136 27.35878            2922  2526.276\n",
              "2137 40.23350           13961 19965.935\n",
              "2138 25.74944           26195 27234.996\n",
              "2139 37.01482           31105 27234.996\n",
              "2140 38.62416           31200 39087.894\n",
              "2141 27.35878           32155 32227.801\n",
              "2142 27.35878           32170 44582.288\n",
              "2143 37.01482           34995 44582.288\n",
              "2144 46.67086           35705 39087.894\n",
              "2145 38.62416           33750 44582.288\n",
              "2146 54.71756           38400 39087.894\n",
              "2147 49.88954           20595 27234.996\n",
              "2148 30.57746           32690 32227.801\n",
              "2149 53.10822           33200 39087.894\n",
              "2150 38.62416            2000  2526.276\n",
              "2151 49.88954           28795 27234.996\n",
              "2152 51.49888           19800 27234.996\n",
              "2153 40.23350           24690 27234.996\n",
              "2154 33.79614           50305 44582.288\n",
              "2155 41.84284            2000  2526.276\n",
              "2156 35.40548           34005 39087.894\n",
              "2157 49.88954           20090 19965.935\n",
              "2158 28.96812            2992  2526.276\n",
              "2159 37.01482           23280 32227.801\n",
              "2160 40.23350            2000  2526.276\n",
              "2161 40.23350           49150 39087.894\n",
              "2162 49.88954           25450 27234.996\n",
              "2163 37.01482            2575  2526.276\n",
              "2164 48.28020           41300 27234.996"
            ]
          },
          "metadata": {}
        }
      ]
    },
    {
      "cell_type": "code",
      "source": [
        "# Métricas de desempenho R²\n",
        "rsq(predicoes_arvore,\n",
        "    estimate = .pred,\n",
        "    truth = Valor)"
      ],
      "metadata": {
        "colab": {
          "base_uri": "https://localhost:8080/",
          "height": 129
        },
        "id": "bD0sP-nhRuTZ",
        "outputId": "2cfbf6b5-9e80-491c-c074-3915eca9c582"
      },
      "execution_count": 22,
      "outputs": [
        {
          "output_type": "display_data",
          "data": {
            "text/html": [
              "<table class=\"dataframe\">\n",
              "<caption>A tibble: 1 × 3</caption>\n",
              "<thead>\n",
              "\t<tr><th scope=col>.metric</th><th scope=col>.estimator</th><th scope=col>.estimate</th></tr>\n",
              "\t<tr><th scope=col>&lt;chr&gt;</th><th scope=col>&lt;chr&gt;</th><th scope=col>&lt;dbl&gt;</th></tr>\n",
              "</thead>\n",
              "<tbody>\n",
              "\t<tr><td>rsq</td><td>standard</td><td>0.820248</td></tr>\n",
              "</tbody>\n",
              "</table>\n"
            ],
            "text/markdown": "\nA tibble: 1 × 3\n\n| .metric &lt;chr&gt; | .estimator &lt;chr&gt; | .estimate &lt;dbl&gt; |\n|---|---|---|\n| rsq | standard | 0.820248 |\n\n",
            "text/latex": "A tibble: 1 × 3\n\\begin{tabular}{lll}\n .metric & .estimator & .estimate\\\\\n <chr> & <chr> & <dbl>\\\\\n\\hline\n\t rsq & standard & 0.820248\\\\\n\\end{tabular}\n",
            "text/plain": [
              "  .metric .estimator .estimate\n",
              "1 rsq     standard   0.820248 "
            ]
          },
          "metadata": {}
        }
      ]
    },
    {
      "cell_type": "code",
      "source": [
        "# Métricas de desempenho Erro Absoluto Médio\n",
        "mae(predicoes_arvore,\n",
        "    estimate = .pred,\n",
        "    truth = Valor)"
      ],
      "metadata": {
        "colab": {
          "base_uri": "https://localhost:8080/",
          "height": 129
        },
        "id": "-Q2dSly0R9kg",
        "outputId": "ca714224-8aca-4b5c-ed51-38cf7e733776"
      },
      "execution_count": 24,
      "outputs": [
        {
          "output_type": "display_data",
          "data": {
            "text/html": [
              "<table class=\"dataframe\">\n",
              "<caption>A tibble: 1 × 3</caption>\n",
              "<thead>\n",
              "\t<tr><th scope=col>.metric</th><th scope=col>.estimator</th><th scope=col>.estimate</th></tr>\n",
              "\t<tr><th scope=col>&lt;chr&gt;</th><th scope=col>&lt;chr&gt;</th><th scope=col>&lt;dbl&gt;</th></tr>\n",
              "</thead>\n",
              "<tbody>\n",
              "\t<tr><td>mae</td><td>standard</td><td>4783.037</td></tr>\n",
              "</tbody>\n",
              "</table>\n"
            ],
            "text/markdown": "\nA tibble: 1 × 3\n\n| .metric &lt;chr&gt; | .estimator &lt;chr&gt; | .estimate &lt;dbl&gt; |\n|---|---|---|\n| mae | standard | 4783.037 |\n\n",
            "text/latex": "A tibble: 1 × 3\n\\begin{tabular}{lll}\n .metric & .estimator & .estimate\\\\\n <chr> & <chr> & <dbl>\\\\\n\\hline\n\t mae & standard & 4783.037\\\\\n\\end{tabular}\n",
            "text/plain": [
              "  .metric .estimator .estimate\n",
              "1 mae     standard   4783.037 "
            ]
          },
          "metadata": {}
        }
      ]
    },
    {
      "cell_type": "code",
      "source": [
        "# Métricas de desempenho Raiz do Erro Quadrático Médio\n",
        "rmse(predicoes_arvore,\n",
        "     estimate = .pred,\n",
        "     truth = Valor)"
      ],
      "metadata": {
        "colab": {
          "base_uri": "https://localhost:8080/",
          "height": 129
        },
        "id": "cT6Fy9LoSUtJ",
        "outputId": "aaf908be-2f75-4cc7-a587-115382e422d4"
      },
      "execution_count": 25,
      "outputs": [
        {
          "output_type": "display_data",
          "data": {
            "text/html": [
              "<table class=\"dataframe\">\n",
              "<caption>A tibble: 1 × 3</caption>\n",
              "<thead>\n",
              "\t<tr><th scope=col>.metric</th><th scope=col>.estimator</th><th scope=col>.estimate</th></tr>\n",
              "\t<tr><th scope=col>&lt;chr&gt;</th><th scope=col>&lt;chr&gt;</th><th scope=col>&lt;dbl&gt;</th></tr>\n",
              "</thead>\n",
              "<tbody>\n",
              "\t<tr><td>rmse</td><td>standard</td><td>6727.974</td></tr>\n",
              "</tbody>\n",
              "</table>\n"
            ],
            "text/markdown": "\nA tibble: 1 × 3\n\n| .metric &lt;chr&gt; | .estimator &lt;chr&gt; | .estimate &lt;dbl&gt; |\n|---|---|---|\n| rmse | standard | 6727.974 |\n\n",
            "text/latex": "A tibble: 1 × 3\n\\begin{tabular}{lll}\n .metric & .estimator & .estimate\\\\\n <chr> & <chr> & <dbl>\\\\\n\\hline\n\t rmse & standard & 6727.974\\\\\n\\end{tabular}\n",
            "text/plain": [
              "  .metric .estimator .estimate\n",
              "1 rmse    standard   6727.974 "
            ]
          },
          "metadata": {}
        }
      ]
    },
    {
      "cell_type": "code",
      "source": [
        "# Criando função para calcular métricas facilmente\n",
        "calcular_metricas <- function(predicoes, valores_reais) {\n",
        "  resultado <- tibble(\n",
        "    predicao = predicoes,\n",
        "    real = valores_reais\n",
        "  )\n",
        "\n",
        "  metricas <- resultado %>%\n",
        "    metrics(truth = real, estimate = predicao)\n",
        "  return(metricas)\n",
        "}"
      ],
      "metadata": {
        "id": "2dm1W0ffSjsA"
      },
      "execution_count": 28,
      "outputs": []
    },
    {
      "cell_type": "code",
      "source": [
        "metricas_arvore <- calcular_metricas(predicoes_arvore$.pred, df_teste$Valor)\n",
        "metricas_arvore"
      ],
      "metadata": {
        "colab": {
          "base_uri": "https://localhost:8080/",
          "height": 192
        },
        "id": "FEOfbC2gS-x5",
        "outputId": "7f4eddfe-45e8-4968-d181-33ef69965616"
      },
      "execution_count": 29,
      "outputs": [
        {
          "output_type": "display_data",
          "data": {
            "text/html": [
              "<table class=\"dataframe\">\n",
              "<caption>A tibble: 3 × 3</caption>\n",
              "<thead>\n",
              "\t<tr><th scope=col>.metric</th><th scope=col>.estimator</th><th scope=col>.estimate</th></tr>\n",
              "\t<tr><th scope=col>&lt;chr&gt;</th><th scope=col>&lt;chr&gt;</th><th scope=col>&lt;dbl&gt;</th></tr>\n",
              "</thead>\n",
              "<tbody>\n",
              "\t<tr><td>rmse</td><td>standard</td><td>6727.974202</td></tr>\n",
              "\t<tr><td>rsq </td><td>standard</td><td>   0.820248</td></tr>\n",
              "\t<tr><td>mae </td><td>standard</td><td>4783.037334</td></tr>\n",
              "</tbody>\n",
              "</table>\n"
            ],
            "text/markdown": "\nA tibble: 3 × 3\n\n| .metric &lt;chr&gt; | .estimator &lt;chr&gt; | .estimate &lt;dbl&gt; |\n|---|---|---|\n| rmse | standard | 6727.974202 |\n| rsq  | standard |    0.820248 |\n| mae  | standard | 4783.037334 |\n\n",
            "text/latex": "A tibble: 3 × 3\n\\begin{tabular}{lll}\n .metric & .estimator & .estimate\\\\\n <chr> & <chr> & <dbl>\\\\\n\\hline\n\t rmse & standard & 6727.974202\\\\\n\t rsq  & standard &    0.820248\\\\\n\t mae  & standard & 4783.037334\\\\\n\\end{tabular}\n",
            "text/plain": [
              "  .metric .estimator .estimate  \n",
              "1 rmse    standard   6727.974202\n",
              "2 rsq     standard      0.820248\n",
              "3 mae     standard   4783.037334"
            ]
          },
          "metadata": {}
        }
      ]
    },
    {
      "cell_type": "code",
      "source": [
        "# Validação cruzada (5-fold)\n",
        "\n",
        "# Avalia a performance do modelo em diferentes divisões dos dados,\n",
        "# reduzindo a chance de overfitting e dando mais confiança nos resultados.\n",
        "set.seed(4556)\n",
        "\n",
        "df_folds <- vfold_cv(df_treino, v = 5)"
      ],
      "metadata": {
        "id": "ljdmgtDtT9qQ"
      },
      "execution_count": 30,
      "outputs": []
    },
    {
      "cell_type": "code",
      "source": [
        "set.seed(4456)\n",
        "\n",
        "fits_cv <- fit_resamples(arvore,\n",
        "                         Valor ~ Estilo + Ano + Potencia_motor,\n",
        "                         resamples = df_folds,\n",
        "                         metrics = metric_set(rmse, mae, rsq))"
      ],
      "metadata": {
        "id": "W3pps2sMUGRR"
      },
      "execution_count": 31,
      "outputs": []
    },
    {
      "cell_type": "code",
      "source": [
        "# Métricas por fold\n",
        "metricas_cv <- collect_metrics(fits_cv, summarize = FALSE)\n",
        "metricas_cv"
      ],
      "metadata": {
        "colab": {
          "base_uri": "https://localhost:8080/",
          "height": 568
        },
        "id": "VHaqYFpYUc7B",
        "outputId": "1d810023-f5e7-4f91-87ab-467179554f0a"
      },
      "execution_count": 32,
      "outputs": [
        {
          "output_type": "display_data",
          "data": {
            "text/html": [
              "<table class=\"dataframe\">\n",
              "<caption>A tibble: 15 × 5</caption>\n",
              "<thead>\n",
              "\t<tr><th scope=col>id</th><th scope=col>.metric</th><th scope=col>.estimator</th><th scope=col>.estimate</th><th scope=col>.config</th></tr>\n",
              "\t<tr><th scope=col>&lt;chr&gt;</th><th scope=col>&lt;chr&gt;</th><th scope=col>&lt;chr&gt;</th><th scope=col>&lt;dbl&gt;</th><th scope=col>&lt;chr&gt;</th></tr>\n",
              "</thead>\n",
              "<tbody>\n",
              "\t<tr><td>Fold1</td><td>rmse</td><td>standard</td><td>6666.1452563</td><td>pre0_mod0_post0</td></tr>\n",
              "\t<tr><td>Fold1</td><td>mae </td><td>standard</td><td>4770.0714765</td><td>pre0_mod0_post0</td></tr>\n",
              "\t<tr><td>Fold1</td><td>rsq </td><td>standard</td><td>   0.8289911</td><td>pre0_mod0_post0</td></tr>\n",
              "\t<tr><td>Fold2</td><td>rmse</td><td>standard</td><td>6857.5945569</td><td>pre0_mod0_post0</td></tr>\n",
              "\t<tr><td>Fold2</td><td>mae </td><td>standard</td><td>4788.4718165</td><td>pre0_mod0_post0</td></tr>\n",
              "\t<tr><td>Fold2</td><td>rsq </td><td>standard</td><td>   0.8196698</td><td>pre0_mod0_post0</td></tr>\n",
              "\t<tr><td>Fold3</td><td>rmse</td><td>standard</td><td>6773.7672352</td><td>pre0_mod0_post0</td></tr>\n",
              "\t<tr><td>Fold3</td><td>mae </td><td>standard</td><td>4782.4624105</td><td>pre0_mod0_post0</td></tr>\n",
              "\t<tr><td>Fold3</td><td>rsq </td><td>standard</td><td>   0.8203407</td><td>pre0_mod0_post0</td></tr>\n",
              "\t<tr><td>Fold4</td><td>rmse</td><td>standard</td><td>6933.9370562</td><td>pre0_mod0_post0</td></tr>\n",
              "\t<tr><td>Fold4</td><td>mae </td><td>standard</td><td>4855.8504832</td><td>pre0_mod0_post0</td></tr>\n",
              "\t<tr><td>Fold4</td><td>rsq </td><td>standard</td><td>   0.8111651</td><td>pre0_mod0_post0</td></tr>\n",
              "\t<tr><td>Fold5</td><td>rmse</td><td>standard</td><td>6746.4905738</td><td>pre0_mod0_post0</td></tr>\n",
              "\t<tr><td>Fold5</td><td>mae </td><td>standard</td><td>4720.2215285</td><td>pre0_mod0_post0</td></tr>\n",
              "\t<tr><td>Fold5</td><td>rsq </td><td>standard</td><td>   0.8152714</td><td>pre0_mod0_post0</td></tr>\n",
              "</tbody>\n",
              "</table>\n"
            ],
            "text/markdown": "\nA tibble: 15 × 5\n\n| id &lt;chr&gt; | .metric &lt;chr&gt; | .estimator &lt;chr&gt; | .estimate &lt;dbl&gt; | .config &lt;chr&gt; |\n|---|---|---|---|---|\n| Fold1 | rmse | standard | 6666.1452563 | pre0_mod0_post0 |\n| Fold1 | mae  | standard | 4770.0714765 | pre0_mod0_post0 |\n| Fold1 | rsq  | standard |    0.8289911 | pre0_mod0_post0 |\n| Fold2 | rmse | standard | 6857.5945569 | pre0_mod0_post0 |\n| Fold2 | mae  | standard | 4788.4718165 | pre0_mod0_post0 |\n| Fold2 | rsq  | standard |    0.8196698 | pre0_mod0_post0 |\n| Fold3 | rmse | standard | 6773.7672352 | pre0_mod0_post0 |\n| Fold3 | mae  | standard | 4782.4624105 | pre0_mod0_post0 |\n| Fold3 | rsq  | standard |    0.8203407 | pre0_mod0_post0 |\n| Fold4 | rmse | standard | 6933.9370562 | pre0_mod0_post0 |\n| Fold4 | mae  | standard | 4855.8504832 | pre0_mod0_post0 |\n| Fold4 | rsq  | standard |    0.8111651 | pre0_mod0_post0 |\n| Fold5 | rmse | standard | 6746.4905738 | pre0_mod0_post0 |\n| Fold5 | mae  | standard | 4720.2215285 | pre0_mod0_post0 |\n| Fold5 | rsq  | standard |    0.8152714 | pre0_mod0_post0 |\n\n",
            "text/latex": "A tibble: 15 × 5\n\\begin{tabular}{lllll}\n id & .metric & .estimator & .estimate & .config\\\\\n <chr> & <chr> & <chr> & <dbl> & <chr>\\\\\n\\hline\n\t Fold1 & rmse & standard & 6666.1452563 & pre0\\_mod0\\_post0\\\\\n\t Fold1 & mae  & standard & 4770.0714765 & pre0\\_mod0\\_post0\\\\\n\t Fold1 & rsq  & standard &    0.8289911 & pre0\\_mod0\\_post0\\\\\n\t Fold2 & rmse & standard & 6857.5945569 & pre0\\_mod0\\_post0\\\\\n\t Fold2 & mae  & standard & 4788.4718165 & pre0\\_mod0\\_post0\\\\\n\t Fold2 & rsq  & standard &    0.8196698 & pre0\\_mod0\\_post0\\\\\n\t Fold3 & rmse & standard & 6773.7672352 & pre0\\_mod0\\_post0\\\\\n\t Fold3 & mae  & standard & 4782.4624105 & pre0\\_mod0\\_post0\\\\\n\t Fold3 & rsq  & standard &    0.8203407 & pre0\\_mod0\\_post0\\\\\n\t Fold4 & rmse & standard & 6933.9370562 & pre0\\_mod0\\_post0\\\\\n\t Fold4 & mae  & standard & 4855.8504832 & pre0\\_mod0\\_post0\\\\\n\t Fold4 & rsq  & standard &    0.8111651 & pre0\\_mod0\\_post0\\\\\n\t Fold5 & rmse & standard & 6746.4905738 & pre0\\_mod0\\_post0\\\\\n\t Fold5 & mae  & standard & 4720.2215285 & pre0\\_mod0\\_post0\\\\\n\t Fold5 & rsq  & standard &    0.8152714 & pre0\\_mod0\\_post0\\\\\n\\end{tabular}\n",
            "text/plain": [
              "   id    .metric .estimator .estimate    .config        \n",
              "1  Fold1 rmse    standard   6666.1452563 pre0_mod0_post0\n",
              "2  Fold1 mae     standard   4770.0714765 pre0_mod0_post0\n",
              "3  Fold1 rsq     standard      0.8289911 pre0_mod0_post0\n",
              "4  Fold2 rmse    standard   6857.5945569 pre0_mod0_post0\n",
              "5  Fold2 mae     standard   4788.4718165 pre0_mod0_post0\n",
              "6  Fold2 rsq     standard      0.8196698 pre0_mod0_post0\n",
              "7  Fold3 rmse    standard   6773.7672352 pre0_mod0_post0\n",
              "8  Fold3 mae     standard   4782.4624105 pre0_mod0_post0\n",
              "9  Fold3 rsq     standard      0.8203407 pre0_mod0_post0\n",
              "10 Fold4 rmse    standard   6933.9370562 pre0_mod0_post0\n",
              "11 Fold4 mae     standard   4855.8504832 pre0_mod0_post0\n",
              "12 Fold4 rsq     standard      0.8111651 pre0_mod0_post0\n",
              "13 Fold5 rmse    standard   6746.4905738 pre0_mod0_post0\n",
              "14 Fold5 mae     standard   4720.2215285 pre0_mod0_post0\n",
              "15 Fold5 rsq     standard      0.8152714 pre0_mod0_post0"
            ]
          },
          "metadata": {}
        }
      ]
    },
    {
      "cell_type": "code",
      "source": [
        "# Média das métricas nos 5 folds\n",
        "media_metricas_arvore <- collect_metrics(fits_cv)\n",
        "media_metricas_arvore"
      ],
      "metadata": {
        "colab": {
          "base_uri": "https://localhost:8080/",
          "height": 192
        },
        "id": "Y7L4FXNqUxWw",
        "outputId": "bbc399d6-a83d-4f16-eb8e-155757e6433e"
      },
      "execution_count": 33,
      "outputs": [
        {
          "output_type": "display_data",
          "data": {
            "text/html": [
              "<table class=\"dataframe\">\n",
              "<caption>A tibble: 3 × 6</caption>\n",
              "<thead>\n",
              "\t<tr><th scope=col>.metric</th><th scope=col>.estimator</th><th scope=col>mean</th><th scope=col>n</th><th scope=col>std_err</th><th scope=col>.config</th></tr>\n",
              "\t<tr><th scope=col>&lt;chr&gt;</th><th scope=col>&lt;chr&gt;</th><th scope=col>&lt;dbl&gt;</th><th scope=col>&lt;int&gt;</th><th scope=col>&lt;dbl&gt;</th><th scope=col>&lt;chr&gt;</th></tr>\n",
              "</thead>\n",
              "<tbody>\n",
              "\t<tr><td>mae </td><td>standard</td><td>4783.4155430</td><td>5</td><td>21.731132630</td><td>pre0_mod0_post0</td></tr>\n",
              "\t<tr><td>rmse</td><td>standard</td><td>6795.5869357</td><td>5</td><td>46.166763686</td><td>pre0_mod0_post0</td></tr>\n",
              "\t<tr><td>rsq </td><td>standard</td><td>   0.8190876</td><td>5</td><td> 0.002977559</td><td>pre0_mod0_post0</td></tr>\n",
              "</tbody>\n",
              "</table>\n"
            ],
            "text/markdown": "\nA tibble: 3 × 6\n\n| .metric &lt;chr&gt; | .estimator &lt;chr&gt; | mean &lt;dbl&gt; | n &lt;int&gt; | std_err &lt;dbl&gt; | .config &lt;chr&gt; |\n|---|---|---|---|---|---|\n| mae  | standard | 4783.4155430 | 5 | 21.731132630 | pre0_mod0_post0 |\n| rmse | standard | 6795.5869357 | 5 | 46.166763686 | pre0_mod0_post0 |\n| rsq  | standard |    0.8190876 | 5 |  0.002977559 | pre0_mod0_post0 |\n\n",
            "text/latex": "A tibble: 3 × 6\n\\begin{tabular}{llllll}\n .metric & .estimator & mean & n & std\\_err & .config\\\\\n <chr> & <chr> & <dbl> & <int> & <dbl> & <chr>\\\\\n\\hline\n\t mae  & standard & 4783.4155430 & 5 & 21.731132630 & pre0\\_mod0\\_post0\\\\\n\t rmse & standard & 6795.5869357 & 5 & 46.166763686 & pre0\\_mod0\\_post0\\\\\n\t rsq  & standard &    0.8190876 & 5 &  0.002977559 & pre0\\_mod0\\_post0\\\\\n\\end{tabular}\n",
            "text/plain": [
              "  .metric .estimator mean         n std_err      .config        \n",
              "1 mae     standard   4783.4155430 5 21.731132630 pre0_mod0_post0\n",
              "2 rmse    standard   6795.5869357 5 46.166763686 pre0_mod0_post0\n",
              "3 rsq     standard      0.8190876 5  0.002977559 pre0_mod0_post0"
            ]
          },
          "metadata": {}
        }
      ]
    }
  ]
}