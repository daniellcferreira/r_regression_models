{
  "nbformat": 4,
  "nbformat_minor": 0,
  "metadata": {
    "colab": {
      "provenance": []
    },
    "kernelspec": {
      "name": "ir",
      "display_name": "R"
    },
    "language_info": {
      "name": "R"
    }
  },
  "cells": [
    {
      "cell_type": "code",
      "source": [
        "# Técnica de Boosting\n",
        "\n",
        "install.packages('tidymodels')"
      ],
      "metadata": {
        "colab": {
          "base_uri": "https://localhost:8080/"
        },
        "id": "5RMNymGsRV_5",
        "outputId": "b94a484e-0540-43eb-d426-fe31516e6356"
      },
      "execution_count": 23,
      "outputs": [
        {
          "output_type": "stream",
          "name": "stderr",
          "text": [
            "Installing package into ‘/usr/local/lib/R/site-library’\n",
            "(as ‘lib’ is unspecified)\n",
            "\n"
          ]
        }
      ]
    },
    {
      "cell_type": "code",
      "execution_count": 24,
      "metadata": {
        "id": "4c6126jwQR-X"
      },
      "outputs": [],
      "source": [
        "library(tidymodels)"
      ]
    },
    {
      "cell_type": "code",
      "source": [
        "dados <- read.csv('automoveis_usados.csv')"
      ],
      "metadata": {
        "id": "ow9yEeNoQp7T"
      },
      "execution_count": 25,
      "outputs": []
    },
    {
      "cell_type": "code",
      "source": [
        "head(dados)"
      ],
      "metadata": {
        "colab": {
          "base_uri": "https://localhost:8080/",
          "height": 286
        },
        "id": "Hl5K3pJLQxyK",
        "outputId": "650ba35b-df25-4402-b666-5aa0f1a2f5c6"
      },
      "execution_count": 26,
      "outputs": [
        {
          "output_type": "display_data",
          "data": {
            "text/html": [
              "<table class=\"dataframe\">\n",
              "<caption>A data.frame: 6 × 6</caption>\n",
              "<thead>\n",
              "\t<tr><th></th><th scope=col>Estilo</th><th scope=col>Ano</th><th scope=col>Potencia_motor</th><th scope=col>Cilindros_motor</th><th scope=col>Consumo_estrada_km</th><th scope=col>Valor</th></tr>\n",
              "\t<tr><th></th><th scope=col>&lt;chr&gt;</th><th scope=col>&lt;int&gt;</th><th scope=col>&lt;dbl&gt;</th><th scope=col>&lt;dbl&gt;</th><th scope=col>&lt;dbl&gt;</th><th scope=col>&lt;int&gt;</th></tr>\n",
              "</thead>\n",
              "<tbody>\n",
              "\t<tr><th scope=row>1</th><td>SUV 4 portas           </td><td>2005</td><td>275</td><td>6</td><td>28.96812</td><td>29695</td></tr>\n",
              "\t<tr><th scope=row>2</th><td>seda                   </td><td>2016</td><td>170</td><td>4</td><td>61.15492</td><td>30495</td></tr>\n",
              "\t<tr><th scope=row>3</th><td>minivan de passageiros </td><td>2016</td><td>248</td><td>6</td><td>45.06152</td><td>37650</td></tr>\n",
              "\t<tr><th scope=row>4</th><td>seda                   </td><td>2015</td><td>138</td><td>4</td><td>57.93624</td><td>16170</td></tr>\n",
              "\t<tr><th scope=row>5</th><td>seda                   </td><td>1991</td><td>162</td><td>4</td><td>32.18680</td><td> 2000</td></tr>\n",
              "\t<tr><th scope=row>6</th><td>picape cabine estendida</td><td>2012</td><td>152</td><td>4</td><td>37.01482</td><td>19299</td></tr>\n",
              "</tbody>\n",
              "</table>\n"
            ],
            "text/markdown": "\nA data.frame: 6 × 6\n\n| <!--/--> | Estilo &lt;chr&gt; | Ano &lt;int&gt; | Potencia_motor &lt;dbl&gt; | Cilindros_motor &lt;dbl&gt; | Consumo_estrada_km &lt;dbl&gt; | Valor &lt;int&gt; |\n|---|---|---|---|---|---|---|\n| 1 | SUV 4 portas            | 2005 | 275 | 6 | 28.96812 | 29695 |\n| 2 | seda                    | 2016 | 170 | 4 | 61.15492 | 30495 |\n| 3 | minivan de passageiros  | 2016 | 248 | 6 | 45.06152 | 37650 |\n| 4 | seda                    | 2015 | 138 | 4 | 57.93624 | 16170 |\n| 5 | seda                    | 1991 | 162 | 4 | 32.18680 |  2000 |\n| 6 | picape cabine estendida | 2012 | 152 | 4 | 37.01482 | 19299 |\n\n",
            "text/latex": "A data.frame: 6 × 6\n\\begin{tabular}{r|llllll}\n  & Estilo & Ano & Potencia\\_motor & Cilindros\\_motor & Consumo\\_estrada\\_km & Valor\\\\\n  & <chr> & <int> & <dbl> & <dbl> & <dbl> & <int>\\\\\n\\hline\n\t1 & SUV 4 portas            & 2005 & 275 & 6 & 28.96812 & 29695\\\\\n\t2 & seda                    & 2016 & 170 & 4 & 61.15492 & 30495\\\\\n\t3 & minivan de passageiros  & 2016 & 248 & 6 & 45.06152 & 37650\\\\\n\t4 & seda                    & 2015 & 138 & 4 & 57.93624 & 16170\\\\\n\t5 & seda                    & 1991 & 162 & 4 & 32.18680 &  2000\\\\\n\t6 & picape cabine estendida & 2012 & 152 & 4 & 37.01482 & 19299\\\\\n\\end{tabular}\n",
            "text/plain": [
              "  Estilo                  Ano  Potencia_motor Cilindros_motor\n",
              "1 SUV 4 portas            2005 275            6              \n",
              "2 seda                    2016 170            4              \n",
              "3 minivan de passageiros  2016 248            6              \n",
              "4 seda                    2015 138            4              \n",
              "5 seda                    1991 162            4              \n",
              "6 picape cabine estendida 2012 152            4              \n",
              "  Consumo_estrada_km Valor\n",
              "1 28.96812           29695\n",
              "2 61.15492           30495\n",
              "3 45.06152           37650\n",
              "4 57.93624           16170\n",
              "5 32.18680            2000\n",
              "6 37.01482           19299"
            ]
          },
          "metadata": {}
        }
      ]
    },
    {
      "cell_type": "code",
      "source": [
        "set.seed(6578)\n",
        "\n",
        "df_split <- initial_split(dados, prop = 0.8)\n",
        "df_split"
      ],
      "metadata": {
        "colab": {
          "base_uri": "https://localhost:8080/",
          "height": 53
        },
        "id": "ndmNccGDQ0yS",
        "outputId": "a84d25d5-1699-4bd5-99df-e4f3693e35aa"
      },
      "execution_count": 27,
      "outputs": [
        {
          "output_type": "display_data",
          "data": {
            "text/plain": [
              "<Training/Testing/Total>\n",
              "<8655/2164/10819>"
            ]
          },
          "metadata": {}
        }
      ]
    },
    {
      "cell_type": "code",
      "metadata": {
        "id": "8424f526"
      },
      "source": [
        "df_treino <- training(df_split)\n",
        "df_teste <- testing(df_split)"
      ],
      "execution_count": 28,
      "outputs": []
    },
    {
      "cell_type": "code",
      "source": [
        "set.seed(4556)\n",
        "\n",
        "df_folds <- vfold_cv(df_treino, v = 5)"
      ],
      "metadata": {
        "id": "5PHP4fjUUNlh"
      },
      "execution_count": 29,
      "outputs": []
    },
    {
      "cell_type": "code",
      "source": [
        "# Instalando e carregando o pacote XGBoost\n",
        "install.packages('xgboost')"
      ],
      "metadata": {
        "colab": {
          "base_uri": "https://localhost:8080/"
        },
        "id": "4S-yfqD4UZa1",
        "outputId": "9be3f170-2a40-428b-d79b-0703409a5440"
      },
      "execution_count": 33,
      "outputs": [
        {
          "output_type": "stream",
          "name": "stderr",
          "text": [
            "Installing package into ‘/usr/local/lib/R/site-library’\n",
            "(as ‘lib’ is unspecified)\n",
            "\n"
          ]
        }
      ]
    },
    {
      "cell_type": "code",
      "source": [
        "library(xgboost)"
      ],
      "metadata": {
        "id": "UUoX-SsKUn-V"
      },
      "execution_count": 34,
      "outputs": []
    },
    {
      "cell_type": "code",
      "source": [
        "# Definindo o modelo Boosting\n",
        "# - boost_tree(): cria um modelo baseado em árvores\n",
        "# - set_mode('regression'): indica que o problema é de regressão\n",
        "# - set_engine('xgboost'): usa o motor do XGBoost\n",
        "# - set_args(trees = 100): define o número de árvores (iterações do boosting)\n",
        "boosting <- boost_tree() %>%\n",
        "  set_mode('regression') %>%\n",
        "  set_engine('xgboost') %>%\n",
        "  set_args(trees = 100)"
      ],
      "metadata": {
        "id": "HI3L4oLeyDtN"
      },
      "execution_count": 35,
      "outputs": []
    },
    {
      "cell_type": "code",
      "source": [
        "# Ajustando o modelo aos dados de treino\n",
        "set.seed(4556)\n",
        "\n",
        "modelo_boosting <- boosting %>%\n",
        "  fit(Valor ~ Estilo + Ano + Potencia_motor, data = df_treino)"
      ],
      "metadata": {
        "id": "-07BYshByZWN"
      },
      "execution_count": 36,
      "outputs": []
    },
    {
      "cell_type": "code",
      "source": [
        "# Visualizando informações do modelo treinado\n",
        "modelo_boosting"
      ],
      "metadata": {
        "colab": {
          "base_uri": "https://localhost:8080/",
          "height": 507
        },
        "id": "LrKmRE-tyurk",
        "outputId": "bb72ff7f-cd97-44bb-effa-9bf99a7c9629"
      },
      "execution_count": 37,
      "outputs": [
        {
          "output_type": "display_data",
          "data": {
            "text/plain": [
              "parsnip model object\n",
              "\n",
              "##### xgb.Booster\n",
              "raw: 349.6 Kb \n",
              "call:\n",
              "  xgboost::xgb.train(params = list(eta = 0.3, max_depth = 6, gamma = 0, \n",
              "    colsample_bytree = 1, colsample_bynode = 1, min_child_weight = 1, \n",
              "    subsample = 1), data = x$data, nrounds = 100, watchlist = x$watchlist, \n",
              "    verbose = 0, nthread = 1, objective = \"reg:squarederror\")\n",
              "params (as set within xgb.train):\n",
              "  eta = \"0.3\", max_depth = \"6\", gamma = \"0\", colsample_bytree = \"1\", colsample_bynode = \"1\", min_child_weight = \"1\", subsample = \"1\", nthread = \"1\", objective = \"reg:squarederror\", validate_parameters = \"TRUE\"\n",
              "xgb.attributes:\n",
              "  niter\n",
              "callbacks:\n",
              "  cb.evaluation.log()\n",
              "# of features: 18 \n",
              "niter: 100\n",
              "nfeatures : 18 \n",
              "evaluation_log:\n",
              "  iter training_rmse\n",
              " <num>         <num>\n",
              "     1     23356.511\n",
              "     2     16914.813\n",
              "   ---           ---\n",
              "    99      3729.702\n",
              "   100      3725.600"
            ]
          },
          "metadata": {}
        }
      ]
    },
    {
      "cell_type": "code",
      "source": [
        "# Fazendo previsões no conjunto de teste\n",
        "predicoes <- predict(modelo_boosting, new_data = df_teste)"
      ],
      "metadata": {
        "id": "grpTkCsFy0NK"
      },
      "execution_count": 38,
      "outputs": []
    },
    {
      "cell_type": "code",
      "source": [
        "predicoes_boosting <- bind_cols(df_teste, predicoes)"
      ],
      "metadata": {
        "id": "H-P-b9S5y-w1"
      },
      "execution_count": 39,
      "outputs": []
    },
    {
      "cell_type": "code",
      "source": [
        "calcular_metricas <- function(predicoes, valores_reais) {\n",
        "  resultado <- tibble(\n",
        "    predicao = predicoes,\n",
        "    real = valores_reais\n",
        "  )\n",
        "\n",
        "  metricas <- resultado %>%\n",
        "    metrics(truth = real, estimate = predicao)\n",
        "\n",
        "  return(metricas)\n",
        "}"
      ],
      "metadata": {
        "id": "6KT3rEFN1dPv"
      },
      "execution_count": 40,
      "outputs": []
    },
    {
      "cell_type": "code",
      "source": [
        "# Calculando métricas de desempenho do modelo Boosting\n",
        "# - RMSE: raiz do erro quadrático médio\n",
        "# - MAE: erro absoluto médio\n",
        "# - R²: coeficiente de determinação\n",
        "metricas_boosting <- calcular_metricas(predicoes_boosting$.pred, predicoes_boosting$Valor)\n",
        "metricas_boosting"
      ],
      "metadata": {
        "colab": {
          "base_uri": "https://localhost:8080/",
          "height": 192
        },
        "id": "n41D9yTtzF0V",
        "outputId": "6c8f9719-fbb8-4f23-c6fc-f182938a3c8b"
      },
      "execution_count": 41,
      "outputs": [
        {
          "output_type": "display_data",
          "data": {
            "text/html": [
              "<table class=\"dataframe\">\n",
              "<caption>A tibble: 3 × 3</caption>\n",
              "<thead>\n",
              "\t<tr><th scope=col>.metric</th><th scope=col>.estimator</th><th scope=col>.estimate</th></tr>\n",
              "\t<tr><th scope=col>&lt;chr&gt;</th><th scope=col>&lt;chr&gt;</th><th scope=col>&lt;dbl&gt;</th></tr>\n",
              "</thead>\n",
              "<tbody>\n",
              "\t<tr><td>rmse</td><td>standard</td><td>4483.2484389</td></tr>\n",
              "\t<tr><td>rsq </td><td>standard</td><td>   0.9201857</td></tr>\n",
              "\t<tr><td>mae </td><td>standard</td><td>3024.2435636</td></tr>\n",
              "</tbody>\n",
              "</table>\n"
            ],
            "text/markdown": "\nA tibble: 3 × 3\n\n| .metric &lt;chr&gt; | .estimator &lt;chr&gt; | .estimate &lt;dbl&gt; |\n|---|---|---|\n| rmse | standard | 4483.2484389 |\n| rsq  | standard |    0.9201857 |\n| mae  | standard | 3024.2435636 |\n\n",
            "text/latex": "A tibble: 3 × 3\n\\begin{tabular}{lll}\n .metric & .estimator & .estimate\\\\\n <chr> & <chr> & <dbl>\\\\\n\\hline\n\t rmse & standard & 4483.2484389\\\\\n\t rsq  & standard &    0.9201857\\\\\n\t mae  & standard & 3024.2435636\\\\\n\\end{tabular}\n",
            "text/plain": [
              "  .metric .estimator .estimate   \n",
              "1 rmse    standard   4483.2484389\n",
              "2 rsq     standard      0.9201857\n",
              "3 mae     standard   3024.2435636"
            ]
          },
          "metadata": {}
        }
      ]
    },
    {
      "cell_type": "code",
      "source": [
        "# Avaliando a performance do modelo com validação cruzada (resampling)\n",
        "set.seed(4456)\n",
        "\n",
        "fits_cv <- fit_resamples(boosting,\n",
        "                         Valor ~ Estilo + Ano + Potencia_motor,\n",
        "                         resamples = df_folds,\n",
        "                         metrics = metric_set(rmse, mae, rsq))"
      ],
      "metadata": {
        "id": "RsA8PXTMzVd6"
      },
      "execution_count": 42,
      "outputs": []
    },
    {
      "cell_type": "code",
      "source": [
        "# Coletando métricas médias da validação cruzada\n",
        "media_metricas_boosting <- collect_metrics(fits_cv)\n",
        "media_metricas_boosting"
      ],
      "metadata": {
        "colab": {
          "base_uri": "https://localhost:8080/",
          "height": 192
        },
        "id": "zUoEJTUm10cw",
        "outputId": "22478404-90ae-4b7b-9d04-c817c1e09345"
      },
      "execution_count": 43,
      "outputs": [
        {
          "output_type": "display_data",
          "data": {
            "text/html": [
              "<table class=\"dataframe\">\n",
              "<caption>A tibble: 3 × 6</caption>\n",
              "<thead>\n",
              "\t<tr><th scope=col>.metric</th><th scope=col>.estimator</th><th scope=col>mean</th><th scope=col>n</th><th scope=col>std_err</th><th scope=col>.config</th></tr>\n",
              "\t<tr><th scope=col>&lt;chr&gt;</th><th scope=col>&lt;chr&gt;</th><th scope=col>&lt;dbl&gt;</th><th scope=col>&lt;int&gt;</th><th scope=col>&lt;dbl&gt;</th><th scope=col>&lt;chr&gt;</th></tr>\n",
              "</thead>\n",
              "<tbody>\n",
              "\t<tr><td>mae </td><td>standard</td><td>2972.4183138</td><td>5</td><td>28.596628075</td><td>pre0_mod0_post0</td></tr>\n",
              "\t<tr><td>rmse</td><td>standard</td><td>4506.4203139</td><td>5</td><td>81.098190087</td><td>pre0_mod0_post0</td></tr>\n",
              "\t<tr><td>rsq </td><td>standard</td><td>   0.9203949</td><td>5</td><td> 0.002740729</td><td>pre0_mod0_post0</td></tr>\n",
              "</tbody>\n",
              "</table>\n"
            ],
            "text/markdown": "\nA tibble: 3 × 6\n\n| .metric &lt;chr&gt; | .estimator &lt;chr&gt; | mean &lt;dbl&gt; | n &lt;int&gt; | std_err &lt;dbl&gt; | .config &lt;chr&gt; |\n|---|---|---|---|---|---|\n| mae  | standard | 2972.4183138 | 5 | 28.596628075 | pre0_mod0_post0 |\n| rmse | standard | 4506.4203139 | 5 | 81.098190087 | pre0_mod0_post0 |\n| rsq  | standard |    0.9203949 | 5 |  0.002740729 | pre0_mod0_post0 |\n\n",
            "text/latex": "A tibble: 3 × 6\n\\begin{tabular}{llllll}\n .metric & .estimator & mean & n & std\\_err & .config\\\\\n <chr> & <chr> & <dbl> & <int> & <dbl> & <chr>\\\\\n\\hline\n\t mae  & standard & 2972.4183138 & 5 & 28.596628075 & pre0\\_mod0\\_post0\\\\\n\t rmse & standard & 4506.4203139 & 5 & 81.098190087 & pre0\\_mod0\\_post0\\\\\n\t rsq  & standard &    0.9203949 & 5 &  0.002740729 & pre0\\_mod0\\_post0\\\\\n\\end{tabular}\n",
            "text/plain": [
              "  .metric .estimator mean         n std_err      .config        \n",
              "1 mae     standard   2972.4183138 5 28.596628075 pre0_mod0_post0\n",
              "2 rmse    standard   4506.4203139 5 81.098190087 pre0_mod0_post0\n",
              "3 rsq     standard      0.9203949 5  0.002740729 pre0_mod0_post0"
            ]
          },
          "metadata": {}
        }
      ]
    },
    {
      "cell_type": "code",
      "source": [
        "# Explorando o impacto dos parâmetros\n",
        "\n",
        "# Testando o aumento no número de árvores (de 100 para 300)\n",
        "set.seed(4456)\n",
        "\n",
        "boosting_300 <- boost_tree() %>%\n",
        "  set_mode('regression') %>%\n",
        "  set_engine('xgboost') %>%\n",
        "  set_args(trees = 300)\n",
        "\n",
        "fits_cv <- fit_resamples(boosting_300,\n",
        "                         Valor ~ Estilo + Ano + Potencia_motor,\n",
        "                         resamples = df_folds,\n",
        "                         metrics = metric_set(rmse, mae, rsq))\n",
        "\n",
        "# Coletando as métricas com 300 árvores\n",
        "media_metricas_boosting_300 <- collect_metrics(fits_cv)\n",
        "media_metricas_boosting_300"
      ],
      "metadata": {
        "colab": {
          "base_uri": "https://localhost:8080/",
          "height": 192
        },
        "id": "dFfCkrhr15wZ",
        "outputId": "3a1883b4-440b-44e5-bff4-3cc36a981b83"
      },
      "execution_count": 44,
      "outputs": [
        {
          "output_type": "display_data",
          "data": {
            "text/html": [
              "<table class=\"dataframe\">\n",
              "<caption>A tibble: 3 × 6</caption>\n",
              "<thead>\n",
              "\t<tr><th scope=col>.metric</th><th scope=col>.estimator</th><th scope=col>mean</th><th scope=col>n</th><th scope=col>std_err</th><th scope=col>.config</th></tr>\n",
              "\t<tr><th scope=col>&lt;chr&gt;</th><th scope=col>&lt;chr&gt;</th><th scope=col>&lt;dbl&gt;</th><th scope=col>&lt;int&gt;</th><th scope=col>&lt;dbl&gt;</th><th scope=col>&lt;chr&gt;</th></tr>\n",
              "</thead>\n",
              "<tbody>\n",
              "\t<tr><td>mae </td><td>standard</td><td>2913.5514533</td><td>5</td><td>28.725372725</td><td>pre0_mod0_post0</td></tr>\n",
              "\t<tr><td>rmse</td><td>standard</td><td>4487.6969849</td><td>5</td><td>79.796908090</td><td>pre0_mod0_post0</td></tr>\n",
              "\t<tr><td>rsq </td><td>standard</td><td>   0.9211871</td><td>5</td><td> 0.002688116</td><td>pre0_mod0_post0</td></tr>\n",
              "</tbody>\n",
              "</table>\n"
            ],
            "text/markdown": "\nA tibble: 3 × 6\n\n| .metric &lt;chr&gt; | .estimator &lt;chr&gt; | mean &lt;dbl&gt; | n &lt;int&gt; | std_err &lt;dbl&gt; | .config &lt;chr&gt; |\n|---|---|---|---|---|---|\n| mae  | standard | 2913.5514533 | 5 | 28.725372725 | pre0_mod0_post0 |\n| rmse | standard | 4487.6969849 | 5 | 79.796908090 | pre0_mod0_post0 |\n| rsq  | standard |    0.9211871 | 5 |  0.002688116 | pre0_mod0_post0 |\n\n",
            "text/latex": "A tibble: 3 × 6\n\\begin{tabular}{llllll}\n .metric & .estimator & mean & n & std\\_err & .config\\\\\n <chr> & <chr> & <dbl> & <int> & <dbl> & <chr>\\\\\n\\hline\n\t mae  & standard & 2913.5514533 & 5 & 28.725372725 & pre0\\_mod0\\_post0\\\\\n\t rmse & standard & 4487.6969849 & 5 & 79.796908090 & pre0\\_mod0\\_post0\\\\\n\t rsq  & standard &    0.9211871 & 5 &  0.002688116 & pre0\\_mod0\\_post0\\\\\n\\end{tabular}\n",
            "text/plain": [
              "  .metric .estimator mean         n std_err      .config        \n",
              "1 mae     standard   2913.5514533 5 28.725372725 pre0_mod0_post0\n",
              "2 rmse    standard   4487.6969849 5 79.796908090 pre0_mod0_post0\n",
              "3 rsq     standard      0.9211871 5  0.002688116 pre0_mod0_post0"
            ]
          },
          "metadata": {}
        }
      ]
    },
    {
      "cell_type": "code",
      "source": [
        "# Ajustando a taxa de aprendizado (learning rate)\n",
        "\n",
        "# Taxa de aprendizado controla o \"passo\" dado a cada iteração.\n",
        "# Valores menores tendem a melhorar a generalização, mas exigem mais árvores.\n",
        "set.seed(4456)\n",
        "\n",
        "boosting_final <- boost_tree(learn_rate = 0.2) %>%\n",
        "  set_mode('regression') %>%\n",
        "  set_engine('xgboost') %>%\n",
        "  set_args(trees = 300)\n",
        "\n",
        "fits_cv <- fit_resamples(boosting_final,\n",
        "                         Valor ~ Estilo + Ano + Potencia_motor,\n",
        "                         resamples = df_folds,\n",
        "                         metrics = metric_set(rmse, mae, rsq))\n",
        "\n",
        "media_metricas_boosting_final <- collect_metrics(fits_cv)\n",
        "media_metricas_boosting_final"
      ],
      "metadata": {
        "colab": {
          "base_uri": "https://localhost:8080/",
          "height": 192
        },
        "id": "8g8Gic6-2BrU",
        "outputId": "37a6aed1-0ee2-4ca4-c120-48ee5a47bb3e"
      },
      "execution_count": 45,
      "outputs": [
        {
          "output_type": "display_data",
          "data": {
            "text/html": [
              "<table class=\"dataframe\">\n",
              "<caption>A tibble: 3 × 6</caption>\n",
              "<thead>\n",
              "\t<tr><th scope=col>.metric</th><th scope=col>.estimator</th><th scope=col>mean</th><th scope=col>n</th><th scope=col>std_err</th><th scope=col>.config</th></tr>\n",
              "\t<tr><th scope=col>&lt;chr&gt;</th><th scope=col>&lt;chr&gt;</th><th scope=col>&lt;dbl&gt;</th><th scope=col>&lt;int&gt;</th><th scope=col>&lt;dbl&gt;</th><th scope=col>&lt;chr&gt;</th></tr>\n",
              "</thead>\n",
              "<tbody>\n",
              "\t<tr><td>mae </td><td>standard</td><td>2899.472767</td><td>5</td><td>26.232357937</td><td>pre0_mod0_post0</td></tr>\n",
              "\t<tr><td>rmse</td><td>standard</td><td>4454.513983</td><td>5</td><td>77.445477682</td><td>pre0_mod0_post0</td></tr>\n",
              "\t<tr><td>rsq </td><td>standard</td><td>   0.922277</td><td>5</td><td> 0.002603691</td><td>pre0_mod0_post0</td></tr>\n",
              "</tbody>\n",
              "</table>\n"
            ],
            "text/markdown": "\nA tibble: 3 × 6\n\n| .metric &lt;chr&gt; | .estimator &lt;chr&gt; | mean &lt;dbl&gt; | n &lt;int&gt; | std_err &lt;dbl&gt; | .config &lt;chr&gt; |\n|---|---|---|---|---|---|\n| mae  | standard | 2899.472767 | 5 | 26.232357937 | pre0_mod0_post0 |\n| rmse | standard | 4454.513983 | 5 | 77.445477682 | pre0_mod0_post0 |\n| rsq  | standard |    0.922277 | 5 |  0.002603691 | pre0_mod0_post0 |\n\n",
            "text/latex": "A tibble: 3 × 6\n\\begin{tabular}{llllll}\n .metric & .estimator & mean & n & std\\_err & .config\\\\\n <chr> & <chr> & <dbl> & <int> & <dbl> & <chr>\\\\\n\\hline\n\t mae  & standard & 2899.472767 & 5 & 26.232357937 & pre0\\_mod0\\_post0\\\\\n\t rmse & standard & 4454.513983 & 5 & 77.445477682 & pre0\\_mod0\\_post0\\\\\n\t rsq  & standard &    0.922277 & 5 &  0.002603691 & pre0\\_mod0\\_post0\\\\\n\\end{tabular}\n",
            "text/plain": [
              "  .metric .estimator mean        n std_err      .config        \n",
              "1 mae     standard   2899.472767 5 26.232357937 pre0_mod0_post0\n",
              "2 rmse    standard   4454.513983 5 77.445477682 pre0_mod0_post0\n",
              "3 rsq     standard      0.922277 5  0.002603691 pre0_mod0_post0"
            ]
          },
          "metadata": {}
        }
      ]
    }
  ]
}